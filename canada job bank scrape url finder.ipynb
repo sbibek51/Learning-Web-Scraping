{
 "cells": [
  {
   "cell_type": "code",
   "execution_count": 4,
   "id": "63d22bfd",
   "metadata": {},
   "outputs": [],
   "source": [
    "import requests\n",
    "from bs4 import BeautifulSoup\n",
    "import csv\n",
    "import datetime"
   ]
  },
  {
   "cell_type": "code",
   "execution_count": 5,
   "id": "9f8dc39d",
   "metadata": {},
   "outputs": [],
   "source": [
    "headers = {  \"User-Agent\": \"Mozilla/5.0 (Windows NT 10.0; Win64; x64) AppleWebKit/537.36 (KHTML, like Gecko) Chrome/121.0.0.0 Safari/537.36\",  \"Accept-Encoding\": \"gzip, deflate, br\",\"Accept\": \"text/html,application/xhtml+xml,application/xml;q=0.9,image/avif,image/webp,image/apng,*/*;q=0.8,application/signed-exchange;v=b3;q=0.7\",\"DNT\":\"1\",\"Connection\":\"close\", \"Upgrade-Insecure-Requests\":\"1\"\n",
    "}"
   ]
  },
  {
   "cell_type": "code",
   "execution_count": 6,
   "id": "47ee1e5b",
   "metadata": {},
   "outputs": [
    {
     "name": "stdout",
     "output_type": "stream",
     "text": [
      "Current Date: 2024-03-26\n"
     ]
    }
   ],
   "source": [
    "current_date = datetime.datetime.now().date()\n",
    "print(\"Current Date:\", current_date)"
   ]
  },
  {
   "cell_type": "code",
   "execution_count": 7,
   "id": "c30f8bc4",
   "metadata": {},
   "outputs": [],
   "source": [
    "url = 'https://www.jobbank.gc.ca/jobsearch/jobsearch?sort=M&fprov=NS'"
   ]
  },
  {
   "cell_type": "code",
   "execution_count": 8,
   "id": "c5d72a4a",
   "metadata": {},
   "outputs": [
    {
     "name": "stdout",
     "output_type": "stream",
     "text": [
      "https://www.jobbank.gc.ca/jobsearch/jobsearch?sort=M&fprov=NS\n"
     ]
    }
   ],
   "source": [
    "print(url)"
   ]
  },
  {
   "cell_type": "markdown",
   "id": "dca5d5f7",
   "metadata": {},
   "source": [
    "## Extract raw html"
   ]
  },
  {
   "cell_type": "code",
   "execution_count": 9,
   "id": "ef31cfb5",
   "metadata": {},
   "outputs": [],
   "source": [
    "response=requests.get(url, headers= headers)"
   ]
  },
  {
   "cell_type": "code",
   "execution_count": 10,
   "id": "d5387f6d",
   "metadata": {},
   "outputs": [
    {
     "data": {
      "text/plain": [
       "<Response [200]>"
      ]
     },
     "execution_count": 10,
     "metadata": {},
     "output_type": "execute_result"
    }
   ],
   "source": [
    "response"
   ]
  },
  {
   "cell_type": "code",
   "execution_count": 11,
   "id": "428f9fba",
   "metadata": {},
   "outputs": [
    {
     "data": {
      "text/plain": [
       "'200'"
      ]
     },
     "execution_count": 11,
     "metadata": {},
     "output_type": "execute_result"
    }
   ],
   "source": [
    "response.reason"
   ]
  },
  {
   "cell_type": "code",
   "execution_count": 12,
   "id": "fdd0873a",
   "metadata": {},
   "outputs": [],
   "source": [
    "soup = BeautifulSoup(response.text,'html.parser')"
   ]
  },
  {
   "cell_type": "code",
   "execution_count": 14,
   "id": "422aa4eb",
   "metadata": {},
   "outputs": [],
   "source": [
    "# print(soup)"
   ]
  },
  {
   "cell_type": "code",
   "execution_count": 15,
   "id": "f621661e",
   "metadata": {},
   "outputs": [
    {
     "name": "stdout",
     "output_type": "stream",
     "text": [
      "Job links have been saved to job_links.csv\n"
     ]
    }
   ],
   "source": [
    "# Find all job links on the page\n",
    "job_links = soup.find_all(\"a\", class_=\"resultJobItem\")\n",
    "\n",
    "# Create a list to store the extracted links\n",
    "links_list = []\n",
    "\n",
    "# Iterate through the job links and extract the URLs\n",
    "for link in job_links:\n",
    "    job_url = link.get(\"href\")\n",
    "    # Append the base URL if the job URL is relative\n",
    "    if not job_url.startswith(\"http\"):\n",
    "        job_url = \"https://www.jobbank.gc.ca\" + job_url\n",
    "    links_list.append(job_url)\n",
    "\n",
    "# Define the path for the CSV file\n",
    "csv_file_path = \"job_links.csv\"\n",
    "\n",
    "# Write the extracted links to a CSV file\n",
    "with open(csv_file_path, \"w\", newline=\"\", encoding=\"utf-8\") as csv_file:\n",
    "    writer = csv.writer(csv_file)\n",
    "    writer.writerow([\"Job Link\"])\n",
    "    for link in links_list:\n",
    "        writer.writerow([link])\n",
    "\n",
    "print(\"Job links have been saved to\", csv_file_path)"
   ]
  },
  {
   "cell_type": "code",
   "execution_count": null,
   "id": "18208349",
   "metadata": {},
   "outputs": [],
   "source": []
  }
 ],
 "metadata": {
  "kernelspec": {
   "display_name": "Python 3 (ipykernel)",
   "language": "python",
   "name": "python3"
  },
  "language_info": {
   "codemirror_mode": {
    "name": "ipython",
    "version": 3
   },
   "file_extension": ".py",
   "mimetype": "text/x-python",
   "name": "python",
   "nbconvert_exporter": "python",
   "pygments_lexer": "ipython3",
   "version": "3.10.9"
  }
 },
 "nbformat": 4,
 "nbformat_minor": 5
}
