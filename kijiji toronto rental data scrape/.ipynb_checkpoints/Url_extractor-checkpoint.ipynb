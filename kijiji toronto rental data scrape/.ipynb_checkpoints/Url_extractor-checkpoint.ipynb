{
 "cells": [
  {
   "cell_type": "code",
   "execution_count": null,
   "id": "4be0362c",
   "metadata": {},
   "outputs": [],
   "source": []
  },
  {
   "cell_type": "code",
   "execution_count": 13,
   "id": "c3129bc0",
   "metadata": {},
   "outputs": [
    {
     "ename": "ModuleNotFoundError",
     "evalue": "No module named 'Utils'",
     "output_type": "error",
     "traceback": [
      "\u001b[1;31m---------------------------------------------------------------------------\u001b[0m",
      "\u001b[1;31mModuleNotFoundError\u001b[0m                       Traceback (most recent call last)",
      "Cell \u001b[1;32mIn[13], line 6\u001b[0m\n\u001b[0;32m      4\u001b[0m \u001b[38;5;28;01mimport\u001b[39;00m \u001b[38;5;21;01mpandas\u001b[39;00m \u001b[38;5;28;01mas\u001b[39;00m \u001b[38;5;21;01mpd\u001b[39;00m\n\u001b[0;32m      5\u001b[0m \u001b[38;5;28;01mfrom\u001b[39;00m \u001b[38;5;21;01mdatetime\u001b[39;00m \u001b[38;5;28;01mimport\u001b[39;00m datetime\n\u001b[1;32m----> 6\u001b[0m \u001b[38;5;28;01mimport\u001b[39;00m \u001b[38;5;21;01mUtils\u001b[39;00m\n\u001b[0;32m      9\u001b[0m \u001b[38;5;66;03m# Function to extract URLs from the current page\u001b[39;00m\n\u001b[0;32m     10\u001b[0m \u001b[38;5;28;01mdef\u001b[39;00m \u001b[38;5;21mextract_urls\u001b[39m(soup):\n\u001b[0;32m     11\u001b[0m     \u001b[38;5;66;03m# Find all anchor tags with data-testid=\"listing-link\"\u001b[39;00m\n",
      "\u001b[1;31mModuleNotFoundError\u001b[0m: No module named 'Utils'"
     ]
    }
   ],
   "source": [
    "# %load Url_extractor.py\n",
    "import requests\n",
    "from bs4 import BeautifulSoup\n",
    "import pandas as pd\n",
    "from datetime import datetime\n",
    "import Utils\n",
    "\n",
    "\n",
    "# Function to extract URLs from the current page\n",
    "def extract_urls(soup):\n",
    "    # Find all anchor tags with data-testid=\"listing-link\"\n",
    "    anchor_tags = soup.find_all('a', {'data-testid': 'listing-link'})\n",
    "\n",
    "    # Extract href attributes from all matching anchor tags\n",
    "    hrefs = ['https://www.kijiji.ca' + tag.get('href') for tag in anchor_tags]\n",
    "    return hrefs\n",
    "\n",
    "\n",
    "# Function to process the current page\n",
    "def process_page():\n",
    "    start_time = datetime.now()\n",
    "    global last_page  # Declare the global variable here\n",
    "    for page_number in range(1, last_page + 1):\n",
    "        print(\"Processing page\", page_number)\n",
    "        site = web_site if page_number == 1 else f'https://www.kijiji.ca/b-for-rent/city-of-toronto/page-{page_number}/c30349001l1700273'\n",
    "        response = requests.get(site)\n",
    "        soup = BeautifulSoup(response.text, 'html.parser')\n",
    "\n",
    "        if page_number != 1:\n",
    "            response = requests.get(site)\n",
    "            soup = BeautifulSoup(response.text, 'html.parser')\n",
    "\n",
    "        urls = extract_urls(soup)\n",
    "        ad_url.extend(urls)\n",
    "    end_time = datetime.now()\n",
    "    Utils.print_time_info(start_time, end_time)\n",
    "    # return ad_url\n",
    "\n",
    "\n",
    "web_site = 'https://www.kijiji.ca/b-city-of-toronto/apartment/k0l1700273?dc=true&sort=dateDesc'\n",
    "page_number = 1\n",
    "ad_url = []\n",
    "\n",
    "# Fetch the first page\n",
    "response = requests.get(web_site)\n",
    "soup = BeautifulSoup(response.text, 'html.parser')\n",
    "# Calculate the last page dynamically\n",
    "last_page = Utils.get_last_page(soup)\n",
    "\n",
    "print(last_page)\n",
    "\n",
    "process_page()\n",
    "\n",
    "print(\"Total data \", len(ad_url))\n",
    "\n",
    "# Create a DataFrame with the URLs\n",
    "df = pd.DataFrame({'URL': ad_url})\n",
    "\n",
    "# Specify the file path for the CSV file\n",
    "csv_file_path = 'kijiji_rental_ads_url.csv'\n",
    "\n",
    "# Save the DataFrame to a CSV file with a header\n",
    "df.to_csv(csv_file_path, index=False)\n",
    "\n",
    "print(f\"URLs exported to {csv_file_path}\")\n"
   ]
  },
  {
   "cell_type": "code",
   "execution_count": null,
   "id": "520235d3",
   "metadata": {},
   "outputs": [],
   "source": []
  },
  {
   "cell_type": "code",
   "execution_count": null,
   "id": "74efd02c",
   "metadata": {},
   "outputs": [],
   "source": []
  }
 ],
 "metadata": {
  "kernelspec": {
   "display_name": "Python 3 (ipykernel)",
   "language": "python",
   "name": "python3"
  },
  "language_info": {
   "codemirror_mode": {
    "name": "ipython",
    "version": 3
   },
   "file_extension": ".py",
   "mimetype": "text/x-python",
   "name": "python",
   "nbconvert_exporter": "python",
   "pygments_lexer": "ipython3",
   "version": "3.11.3"
  }
 },
 "nbformat": 4,
 "nbformat_minor": 5
}
