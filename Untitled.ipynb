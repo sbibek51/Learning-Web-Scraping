{
 "cells": [
  {
   "cell_type": "code",
   "execution_count": 1,
   "id": "cc2c64bb",
   "metadata": {},
   "outputs": [],
   "source": [
    "from bs4 import BeautifulSoup\n",
    "import requests\n",
    "from datetime import datetime\n",
    "import pandas as pd \n",
    "import time\n",
    "\n",
    "def generate_url(jobTitle,location):\n",
    "    \"\"\"Generate URL given job title and location\"\"\"\n",
    "    url = f\"https://ca.indeed.com/{jobTitle}-jobs-in-{location}\"\n",
    "    return url\n",
    "\n",
    "def get_record(card):\n",
    "    \"\"\"Extract info from one job card\"\"\"\n",
    "    \n",
    "    atag = card.h2.a\n",
    "    jobTitle = atag.get('title')\n",
    "    jobURL = \"https://ca.indeed.com\" + atag.get('href')\n",
    "    jobCompany = card.find('span',class_='company').text.strip()\n",
    "    \n",
    "    # for job location, sometimes it's <span> sometimes it's <div> \n",
    "    if card.find('span',class_='location'):\n",
    "        jobLocation = card.find('span',class_='location').text.strip()\n",
    "    else:\n",
    "        jobLocation = card.find('div',class_='location').text.strip()\n",
    "        \n",
    "    jobSummary = card.find('div','summary').text.strip()\n",
    "    jobPostDate = card.find('span','date').text\n",
    "    today = datetime.today().strftime('%Y-%m-%d')\n",
    "    \n",
    "    # sometimes there's salary\n",
    "    if card.find('span','salaryText'):\n",
    "        jobSalary = card.find('span','salaryText').text.strip() \n",
    "    else:\n",
    "        jobSalary = ''\n",
    "        \n",
    "    job = (jobTitle,jobCompany,jobLocation,jobPostDate,today,jobSalary,jobSummary,jobURL)\n",
    "    \n",
    "    return job"
   ]
  },
  {
   "cell_type": "code",
   "execution_count": 2,
   "id": "b31c7b09",
   "metadata": {},
   "outputs": [],
   "source": [
    "# should maybe rotate\n",
    "user_agent = {'User-agent': 'Mozilla/5.0 (Macintosh; Intel Mac OS X 10_15_7) AppleWebKit/605.1.15 (KHTML, like Gecko) Version/13.1.3 Safari/605.1.15'}\n",
    "\n",
    "records = []\n",
    "\n",
    "job_title = \"\"  # empty string for all jobs\n",
    "loc = \"ontario\"\n",
    "url = generate_url(jobTitle = job_title, location = loc)\n",
    "\n",
    "# there will be pop-ups but that doesn't matter\n",
    "while True:\n",
    "    time.sleep(1)\n",
    "    response = requests.get(url, user_agent)\n",
    "    soup = BeautifulSoup(response.text,'html.parser')\n",
    "    cards = soup.find_all('div',class_='jobsearch-SerpJobCard')\n",
    "    \n",
    "    for card in cards: \n",
    "        record = get_record(card)\n",
    "        records.append(record)    # append tuple to list\n",
    "        \n",
    "    try:\n",
    "        url = \"https://ca.indeed.com\" + soup.find('a',{'aria-label':'Next'}).get('href')\n",
    "    except AttributeError:\n",
    "        break"
   ]
  },
  {
   "cell_type": "code",
   "execution_count": 3,
   "id": "f48da657",
   "metadata": {},
   "outputs": [
    {
     "data": {
      "text/html": [
       "<div>\n",
       "<style scoped>\n",
       "    .dataframe tbody tr th:only-of-type {\n",
       "        vertical-align: middle;\n",
       "    }\n",
       "\n",
       "    .dataframe tbody tr th {\n",
       "        vertical-align: top;\n",
       "    }\n",
       "\n",
       "    .dataframe thead th {\n",
       "        text-align: right;\n",
       "    }\n",
       "</style>\n",
       "<table border=\"1\" class=\"dataframe\">\n",
       "  <thead>\n",
       "    <tr style=\"text-align: right;\">\n",
       "      <th></th>\n",
       "      <th>jobTitle</th>\n",
       "      <th>jobCompany</th>\n",
       "      <th>jobLocation</th>\n",
       "      <th>jobPostDate</th>\n",
       "      <th>today</th>\n",
       "      <th>jobSalary</th>\n",
       "      <th>jobSummary</th>\n",
       "      <th>jobURL</th>\n",
       "    </tr>\n",
       "  </thead>\n",
       "  <tbody>\n",
       "  </tbody>\n",
       "</table>\n",
       "</div>"
      ],
      "text/plain": [
       "Empty DataFrame\n",
       "Columns: [jobTitle, jobCompany, jobLocation, jobPostDate, today, jobSalary, jobSummary, jobURL]\n",
       "Index: []"
      ]
     },
     "execution_count": 3,
     "metadata": {},
     "output_type": "execute_result"
    }
   ],
   "source": [
    "# make dataframe \n",
    "records_df = pd.DataFrame(records, columns =['jobTitle','jobCompany','jobLocation','jobPostDate','today','jobSalary','jobSummary','jobURL']) \n",
    "\n",
    "records_df"
   ]
  },
  {
   "cell_type": "code",
   "execution_count": null,
   "id": "28ee3dab",
   "metadata": {},
   "outputs": [],
   "source": []
  },
  {
   "cell_type": "code",
   "execution_count": null,
   "id": "b69da74b",
   "metadata": {},
   "outputs": [],
   "source": []
  }
 ],
 "metadata": {
  "kernelspec": {
   "display_name": "Python 3 (ipykernel)",
   "language": "python",
   "name": "python3"
  },
  "language_info": {
   "codemirror_mode": {
    "name": "ipython",
    "version": 3
   },
   "file_extension": ".py",
   "mimetype": "text/x-python",
   "name": "python",
   "nbconvert_exporter": "python",
   "pygments_lexer": "ipython3",
   "version": "3.11.3"
  }
 },
 "nbformat": 4,
 "nbformat_minor": 5
}
