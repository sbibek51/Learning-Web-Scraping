{
 "cells": [
  {
   "cell_type": "code",
   "execution_count": 1,
   "id": "29b7c458",
   "metadata": {},
   "outputs": [],
   "source": [
    "import csv\n",
    "from bs4 import BeautifulSoup\n",
    "import requests"
   ]
  },
  {
   "cell_type": "code",
   "execution_count": 2,
   "id": "f4bd2951",
   "metadata": {},
   "outputs": [],
   "source": [
    "url='https://www.jobbank.gc.ca/jobsearch/jobposting/39868880?source=searchresults'"
   ]
  },
  {
   "cell_type": "code",
   "execution_count": 4,
   "id": "28c8522d",
   "metadata": {},
   "outputs": [
    {
     "name": "stdout",
     "output_type": "stream",
     "text": [
      "https://www.jobbank.gc.ca/jobsearch/jobposting/39868880?source=searchresults\n"
     ]
    }
   ],
   "source": [
    "print(url)"
   ]
  },
  {
   "cell_type": "code",
   "execution_count": 9,
   "id": "8147081d",
   "metadata": {},
   "outputs": [
    {
     "name": "stdout",
     "output_type": "stream",
     "text": [
      "Title: food service supervisor\n",
      "\n",
      "Date Posted: Posted on December 25, 2023\n",
      "\n",
      "Employer: 4912 N.W.T. Ltd.\n",
      "\n",
      "Location: Yellowknife, NT\n",
      "\n",
      "Salary: 16.50 HOUR\n",
      "\n",
      "Work Hours: 35 to 40 hours per week\n",
      "\n",
      "Employment Type: Permanent employmentFull time\n",
      "\n",
      "Start Date: Starts as soon as possible\n",
      "\n",
      "Vacancies: 2 vacancies\n",
      "\n",
      "Languages: English\n",
      "\n",
      "Education: Secondary (high) school graduation certificate\n",
      "\n",
      "Experience: 1 year to less than 2 years\n",
      "\n",
      "Responsibilities: Establish methods to meet work schedules, Supervise and co-ordinate activities of staff who prepare and portion food, Train staff in job duties, sanitation and safety procedures, Estimate ingredient and supplies required for meal preparation, Ensure that food and service meet quality control standards, Address customers' complaints or concerns, Maintain records of stock, repairs, sales and wastage, Prepare and submit reports, Prepare food order summaries for chef, Establish work schedules\n",
      "\n",
      "Benefits: Dental plan, Health care plan, Life insurance, Other benefits\n",
      "\n",
      "url: https://www.jobbank.gc.ca/jobsearch/jobposting/39868880?source=searchresults\n",
      "\n"
     ]
    }
   ],
   "source": [
    "import requests\n",
    "from bs4 import BeautifulSoup\n",
    "\n",
    "def scrape_job_details(url):\n",
    "    response = requests.get(url)\n",
    "    soup = BeautifulSoup(response.content, 'html.parser')\n",
    "\n",
    "    job_details = {}\n",
    "\n",
    "    # Extracting job details\n",
    "    title_elem = soup.find('span', property='title')\n",
    "    job_details['Title'] = title_elem.get_text().strip() if title_elem else ''\n",
    "\n",
    "    date_elem = soup.find('span', property='datePosted')\n",
    "    job_details['Date Posted'] = date_elem.get_text().strip() if date_elem else ''\n",
    "\n",
    "    employer_elem = soup.find('span', property='hiringOrganization')\n",
    "    job_details['Employer'] = employer_elem.get_text().strip() if employer_elem else ''\n",
    "\n",
    "    location_elem = soup.find('span', property='addressLocality')\n",
    "    region_elem = soup.find('span', property='addressRegion')\n",
    "    job_details['Location'] = f\"{location_elem.get_text().strip()}, {region_elem.get_text().strip()}\" if location_elem and region_elem else ''\n",
    "\n",
    "    min_value = soup.find('span', property='minValue').get_text().strip() if soup.find('span', property='minValue') else ''\n",
    "    unit_text = soup.find('span', class_='hidden', property='unitText').get_text().strip() if soup.find('span', class_='hidden', property='unitText') else ''\n",
    "    job_details['Salary'] = f\"{min_value} {unit_text}\" if min_value and unit_text else ''\n",
    "\n",
    "    workhour_elem = soup.find('span', property='workHours')\n",
    "    job_details['Work Hours'] = workhour_elem.get_text().strip() if workhour_elem else ''\n",
    "    \n",
    "    employment_type_elem = soup.find('span', property='employmentType')\n",
    "    job_details['Employment Type'] = employment_type_elem.get_text().strip() if employment_type_elem else ''\n",
    "\n",
    "\n",
    "    start_date_elem = soup.find('span', class_='wb-inv', string='Start date').find_next_sibling() if soup.find('span', class_='wb-inv', string='Start date') else None\n",
    "    job_details['Start Date'] = start_date_elem.get_text().strip() if start_date_elem else ''\n",
    "    \n",
    "#     li_element = soup.find('span', class_='fa fa-gift')\n",
    "#     job_details['Benefits'] = li_element.get_text(strip=True) if li_element else ''\n",
    "\n",
    "    \n",
    "    vacancies_elem = soup.find('span', class_='wb-inv', string='vacancies').find_next_sibling() if soup.find('span', class_='wb-inv', string='vacancies') else None\n",
    "    job_details['Vacancies'] = vacancies_elem.get_text().strip() if vacancies_elem else ''\n",
    "\n",
    "    \n",
    "\n",
    "    languages_elem = soup.find('h4', string='Languages').find_next_sibling() if soup.find('h4', string='Languages') else None\n",
    "    job_details['Languages'] = languages_elem.get_text().strip() if languages_elem else ''\n",
    "\n",
    "    education_elem = soup.find('h4', string='Education').find_next_sibling() if soup.find('h4', string='Education') else None\n",
    "    job_details['Education'] = education_elem.get_text().strip() if education_elem else ''\n",
    "\n",
    "    experience_elem = soup.find('h4', string='Experience').find_next_sibling() if soup.find('h4', string='Experience') else None\n",
    "    job_details['Experience'] = experience_elem.get_text().strip() if experience_elem else ''\n",
    "\n",
    "    # Additional scraping for responsibilities\n",
    "    responsibilities_elem = soup.find('div', property='responsibilities')\n",
    "    if responsibilities_elem:\n",
    "        job_details['Responsibilities'] = ', '.join([li.get_text().strip() for li in responsibilities_elem.find_all('li')])\n",
    "    else:\n",
    "        job_details['Responsibilities'] = ''\n",
    "        \n",
    "        \n",
    "    jobbenefits_elem = soup.find('div', property='jobBenefits')\n",
    "    if jobbenefits_elem:\n",
    "        job_details['Benefits'] = ', '.join([li.get_text().strip() for li in jobbenefits_elem.find_all('li')])\n",
    "    else:\n",
    "        job_details['Benefits'] = ''\n",
    "        \n",
    "    job_details['url'] = url\n",
    "\n",
    "    return job_details\n",
    "\n",
    "\n",
    "job_details = scrape_job_details(url)\n",
    "\n",
    "# Print job details\n",
    "for key, value in job_details.items():\n",
    "    print(f\"{key}: {value}\\n\")\n"
   ]
  },
  {
   "cell_type": "code",
   "execution_count": null,
   "id": "60501c01",
   "metadata": {},
   "outputs": [],
   "source": []
  },
  {
   "cell_type": "code",
   "execution_count": null,
   "id": "00f9c322",
   "metadata": {},
   "outputs": [],
   "source": []
  }
 ],
 "metadata": {
  "kernelspec": {
   "display_name": "Python 3 (ipykernel)",
   "language": "python",
   "name": "python3"
  },
  "language_info": {
   "codemirror_mode": {
    "name": "ipython",
    "version": 3
   },
   "file_extension": ".py",
   "mimetype": "text/x-python",
   "name": "python",
   "nbconvert_exporter": "python",
   "pygments_lexer": "ipython3",
   "version": "3.10.9"
  }
 },
 "nbformat": 4,
 "nbformat_minor": 5
}
