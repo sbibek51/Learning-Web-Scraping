{
 "cells": [
  {
   "cell_type": "code",
   "execution_count": 2,
   "id": "63d22bfd",
   "metadata": {},
   "outputs": [],
   "source": [
    "import requests\n",
    "from bs4 import BeautifulSoup\n",
    "import csv\n",
    "import datetime"
   ]
  },
  {
   "cell_type": "code",
   "execution_count": 3,
   "id": "9f8dc39d",
   "metadata": {},
   "outputs": [],
   "source": [
    "headers = {  \"User-Agent\": \"Mozilla/5.0 (Windows NT 10.0; Win64; x64) AppleWebKit/537.36 (KHTML, like Gecko) Chrome/121.0.0.0 Safari/537.36\",  \"Accept-Encoding\": \"gzip, deflate, br\",\"Accept\": \"text/html,application/xhtml+xml,application/xml;q=0.9,image/avif,image/webp,image/apng,*/*;q=0.8,application/signed-exchange;v=b3;q=0.7\",\"DNT\":\"1\",\"Connection\":\"close\", \"Upgrade-Insecure-Requests\":\"1\"\n",
    "}"
   ]
  },
  {
   "cell_type": "code",
   "execution_count": 4,
   "id": "47ee1e5b",
   "metadata": {},
   "outputs": [
    {
     "name": "stdout",
     "output_type": "stream",
     "text": [
      "Current Date: 2024-03-10\n"
     ]
    }
   ],
   "source": [
    "current_date = datetime.datetime.now().date()\n",
    "print(\"Current Date:\", current_date)"
   ]
  },
  {
   "cell_type": "code",
   "execution_count": 5,
   "id": "b928f57b",
   "metadata": {},
   "outputs": [],
   "source": [
    "template = 'https://www.kijiji.ca/b-{}/{}/k0l1700273?dc=true&sort=dateDesc'\n"
   ]
  },
  {
   "cell_type": "code",
   "execution_count": 6,
   "id": "4991a5ce",
   "metadata": {},
   "outputs": [],
   "source": [
    "def get_url(position,location):\n",
    "    \"\"\"generate a url from job position and location\"\"\"\n",
    "    url = template.format(position,location)\n",
    "    return url"
   ]
  },
  {
   "cell_type": "code",
   "execution_count": 7,
   "id": "c30f8bc4",
   "metadata": {},
   "outputs": [],
   "source": [
    "url = get_url('city-of-toronto', 'rental')"
   ]
  },
  {
   "cell_type": "code",
   "execution_count": 8,
   "id": "c5d72a4a",
   "metadata": {},
   "outputs": [
    {
     "name": "stdout",
     "output_type": "stream",
     "text": [
      "https://www.kijiji.ca/b-city-of-toronto/rental/k0l1700273?dc=true&sort=dateDesc\n"
     ]
    }
   ],
   "source": [
    "print(url)"
   ]
  },
  {
   "cell_type": "markdown",
   "id": "dca5d5f7",
   "metadata": {},
   "source": [
    "## Extract raw html"
   ]
  },
  {
   "cell_type": "code",
   "execution_count": 9,
   "id": "ef31cfb5",
   "metadata": {},
   "outputs": [],
   "source": [
    "response=requests.get(url, headers= headers)"
   ]
  },
  {
   "cell_type": "code",
   "execution_count": 10,
   "id": "d5387f6d",
   "metadata": {},
   "outputs": [
    {
     "data": {
      "text/plain": [
       "<Response [200]>"
      ]
     },
     "execution_count": 10,
     "metadata": {},
     "output_type": "execute_result"
    }
   ],
   "source": [
    "response"
   ]
  },
  {
   "cell_type": "code",
   "execution_count": 11,
   "id": "428f9fba",
   "metadata": {},
   "outputs": [
    {
     "data": {
      "text/plain": [
       "'OK'"
      ]
     },
     "execution_count": 11,
     "metadata": {},
     "output_type": "execute_result"
    }
   ],
   "source": [
    "response.reason"
   ]
  },
  {
   "cell_type": "code",
   "execution_count": 12,
   "id": "fdd0873a",
   "metadata": {},
   "outputs": [],
   "source": [
    "soup = BeautifulSoup(response.text,'html.parser')"
   ]
  },
  {
   "cell_type": "code",
   "execution_count": 13,
   "id": "dd527b00",
   "metadata": {},
   "outputs": [],
   "source": [
    "# cards = soup.find_all('div','job_seen_beacon')\n",
    "# cards = soup.find_all('div','sc-379c64e5-8 bHKVfX')\n",
    "cards = soup.find_all('div','sc-379c64e5-6 ctiGMZ')"
   ]
  },
  {
   "cell_type": "code",
   "execution_count": 14,
   "id": "a78e5d14",
   "metadata": {},
   "outputs": [
    {
     "data": {
      "text/plain": [
       "4"
      ]
     },
     "execution_count": 14,
     "metadata": {},
     "output_type": "execute_result"
    }
   ],
   "source": [
    "len(cards)"
   ]
  },
  {
   "cell_type": "code",
   "execution_count": 15,
   "id": "b545a0eb",
   "metadata": {},
   "outputs": [
    {
     "data": {
      "text/plain": [
       "[<div class=\"sc-379c64e5-6 ctiGMZ\"><div class=\"sc-7271e679-0 gSbySD sc-379c64e5-4 cWYLKz\" data-testid=\"listing-card-image-container-highlight\"><div class=\"sc-7271e679-2 fdDxVm\"><svg aria-hidden=\"true\" fill=\"none\" focusable=\"false\" height=\"32\" viewbox=\"0 0 24 24\" width=\"32\" xmlns=\"http://www.w3.org/2000/svg\"><g clip-path=\"url(#fire_svg__clip0_3674_1808)\"><path d=\"M15.555 10h0l-.003.01.242.061s-.4 1.578.4 1.75l-.056.244h.003l.005.001.012.003a.628.628 0 00.155.009.79.79 0 00.356-.103c.181-.103.335-.282.433-.565.236.508.52 1.265.61 2.116.124 1.187-.132 2.547-1.437 3.688h0l-.006.004.17.184-.17-.184h0l-.001.002-.002.002-.007.006a1.315 1.315 0 00-.098.103 1.184 1.184 0 00-.182.264c-.042.09-.114.297.038.47.029.032.06.057.094.078-.797.574-2.472 1.594-4.369 1.594h-.017 0-.005l-.02.002-.084.001c-.076 0-.188-.002-.33-.012a5.89 5.89 0 01-1.16-.209 6.352 6.352 0 01-2.614-1.487.54.54 0 00.24-.008.32.32 0 00.23-.272.5.5 0 00-.066-.285 1.769 1.769 0 00-.184-.273l-.017-.022-.021-.017h0-.001l-.005-.005a1.893 1.893 0 01-.113-.103 4.557 4.557 0 01-1.066-1.595c-.387-.995-.494-2.402.637-4.11.039.23.103.493.209.739.195.454.566.913 1.23.905h.012l-.016-.25.017.25h.001l.002-.001h.005l.011-.002a.736.736 0 00.137-.032.837.837 0 00.292-.17c.215-.192.374-.523.353-1.063l-.001-.016-.003-.015h0v-.002l-.001-.009a2.59 2.59 0 01-.017-.238c-.004-.172.003-.43.05-.763.092-.651.339-1.59.958-2.729.174.058.349.097.517.09a.75.75 0 00.57-.286c.143-.176.234-.423.293-.732.06-.312.092-.711.098-1.212h0v-.003h-.25.25v0-.054a12.93 12.93 0 00-.07-1.244 14.928 14.928 0 012 1.603c.586.564 1.133 1.208 1.479 1.882.345.672.48 1.352.283 2.01z\" fill=\"url(#fire_svg__paint0_linear_3674_1808)\" stroke=\"#F1454F\" stroke-width=\"0.5\"></path><path d=\"M7.319 8.623h0l.002-.002c.147-.103.253-.257.33-.412.06-.122.104-.248.135-.358.246 1.368-.679 2.279-.995 2.545-.087-.656.047-1.099.199-1.376a1.376 1.376 0 01.303-.377.542.542 0 01.02-.016l.005-.004h0z\" fill=\"url(#fire_svg__paint1_linear_3674_1808)\" stroke=\"#F1454F\" stroke-width=\"0.15\"></path><path d=\"M12.916 19.841c.671-.12 1.187-1.008 1.187-1.008 2.542-1.762 2.233-2.93 2.233-2.93-.93.32-.723-.794-.723-.794.62-1.591.052-1.764.052-1.764-1.665 1.061-1.549-1.166-1.549-1.166.61-3.057-1.145-4.751-1.705-5.204-.065-.053-.157-.001-.155.082.009.384-.02 1.201-.398 1.57 0 0-1.82 1.458-2.026 4.626 0 0-.103 1.55-1.548 1.352 0 0-.594-.358-.788-.896-.011-.033-.07-.03-.073.004-.054.656-.108 2.71 1.158 3.967 0 0 2.155 1.75 2.335 2.214 0 0 .774.186 2.013-.04l-.013-.013z\" fill=\"url(#fire_svg__paint2_linear_3674_1808)\"></path><path d=\"M11.045 19.907s.426.2 1.561-.026c0 0 .258-.849 1.394-1.949 0 0 1.187-1.776-.903-2.797 0 0-.957-.635-.524-3.135.016-.089-.08-.149-.147-.09-.473.408-1.674 1.629-2.013 3.742 0 0-.083.873-1.004.903-.066.002-.117.061-.1.125.1.378.447 1.508 1.13 1.968 0 0 .8.968.619 1.246l-.013.013z\" fill=\"url(#fire_svg__paint3_linear_3674_1808)\"></path></g><defs><lineargradient gradientunits=\"userSpaceOnUse\" id=\"fire_svg__paint0_linear_3674_1808\" x1=\"11.99\" x2=\"11.99\" y1=\"4\" y2=\"19.99\"><stop offset=\"0.229\" stop-color=\"#F1454F\"></stop><stop offset=\"0.755\" stop-color=\"#F8AA17\"></stop><stop offset=\"1\" stop-color=\"#BB3C4D\"></stop></lineargradient><lineargradient gradientunits=\"userSpaceOnUse\" id=\"fire_svg__paint1_linear_3674_1808\" x1=\"7.295\" x2=\"7.295\" y1=\"7.513\" y2=\"10.535\"><stop stop-color=\"#F1454F\"></stop><stop offset=\"0.516\" stop-color=\"#F8AA17\"></stop><stop offset=\"1\" stop-color=\"#F1454F\"></stop></lineargradient><lineargradient gradientunits=\"userSpaceOnUse\" id=\"fire_svg__paint2_linear_3674_1808\" x1=\"11.874\" x2=\"11.874\" y1=\"6.85\" y2=\"19.966\"><stop stop-color=\"#F8AA17\"></stop><stop offset=\"0.49\" stop-color=\"#FFD255\"></stop><stop offset=\"1\" stop-color=\"#F8AA17\" stop-opacity=\"0.35\"></stop></lineargradient><lineargradient gradientunits=\"userSpaceOnUse\" id=\"fire_svg__paint3_linear_3674_1808\" x1=\"11.806\" x2=\"11.806\" y1=\"11.755\" y2=\"23.221\"><stop offset=\"0.176\" stop-color=\"#F8AA17\"></stop><stop offset=\"0.536\" stop-color=\"#FEEED1\"></stop><stop offset=\"0.874\" stop-color=\"#FFD255\"></stop></lineargradient><clippath id=\"fire_svg__clip0_3674_1808\"><path d=\"M0 0h12v16H0z\" fill=\"#fff\" transform=\"translate(6 4)\"></path></clippath></defs></svg> <!-- -->Featured</div><span style=\"box-sizing:border-box;display:block;overflow:hidden;width:initial;height:initial;background:none;opacity:1;border:0;margin:0;padding:0;position:absolute;top:0;left:0;bottom:0;right:0\"><img alt=\"One Bedroom Basement apartment for rent \" data-nimg=\"fill\" data-testid=\"listing-card-image\" decoding=\"async\" src=\"data:image/gif;base64,R0lGODlhAQABAIAAAAAAAP///yH5BAEAAAAALAAAAAABAAEAAAIBRAA7\" style=\"position:absolute;top:0;left:0;bottom:0;right:0;box-sizing:border-box;padding:0;border:none;margin:auto;display:block;width:0;height:0;min-width:100%;max-width:100%;min-height:100%;max-height:100%\"/><noscript><img alt=\"One Bedroom Basement apartment for rent \" data-nimg=\"fill\" data-testid=\"listing-card-image\" decoding=\"async\" loading=\"lazy\" src=\"https://media.kijiji.ca/api/v1/ca-prod-fsbo-ads/images/2e/2ec7e3ec-cda8-495d-923e-002e51d0fc51?rule=kijijica-400-jpg\" style=\"position:absolute;top:0;left:0;bottom:0;right:0;box-sizing:border-box;padding:0;border:none;margin:auto;display:block;width:0;height:0;min-width:100%;max-width:100%;min-height:100%;max-height:100%\"/></noscript></span></div><div class=\"sc-63c588db-0 hTKPam sc-379c64e5-9 iZCfxd\"><div class=\"sc-379c64e5-8 bHKVfX\"><div class=\"sc-67bef22e-0 dkaEZE\" data-testid=\"listing-price-container\"><p class=\"sc-c54bbc09-0 SKPSV sc-67bef22e-2 fAhJUN\" data-testid=\"listing-price\">$1,550.00</p></div><h3 class=\"sc-c54bbc09-0 KhHgs sc-379c64e5-13 knNVTD\" data-testid=\"listing-title\"><a class=\"sc-379c64e5-0 dlxsIh\" data-testid=\"listing-link\" href=\"/v-apartments-condos/city-of-toronto/one-bedroom-basement-apartment-for-rent/1684031187\">One Bedroom Basement apartment for rent </a></h3><div class=\"sc-f278d378-0 dgvsZt\" data-testid=\"listing-details\"><p class=\"sc-c54bbc09-0 epfGfQ\" data-testid=\"listing-location\">East York</p><div class=\"sc-f278d378-2 jixpDj\"><div class=\"sc-f278d378-1 kHIuWn\" data-testid=\"vertical-divider\" role=\"separator\"></div></div></div><p class=\"sc-c54bbc09-0 loTzYZ sc-379c64e5-15 ddaFDH\" data-testid=\"listing-description\">Beautiful and bright renovated one bedroom plus den basement apartment in a desirable area of North York. It is three minute walk to Sheppard West Station and excellent amenities all included. Ideal ...</p><div class=\"sc-8104538b-0 duyLfn\"><div class=\"sc-63c588db-0 kGQmt\"><div class=\"sc-63c588db-0 fDZlnx\" data-testid=\"listing-rental-badge-non-mobile\"><p class=\"sc-c54bbc09-0 aTArv sc-379c64e5-19 hsSGPm\">Virtual Tour</p></div></div></div></div><div class=\"sc-379c64e5-16 eZXekx\"><button aria-label=\"Add to My Favourites\" aria-pressed=\"false\" class=\"sc-1d71d432-0 dmbTFF\" data-testid=\"listing-favourite-button\" title=\"Click to add to My Favourites\" type=\"button\"><svg aria-hidden=\"true\" fill=\"none\" focusable=\"false\" height=\"32\" viewbox=\"0 0 24 24\" width=\"32\" xmlns=\"http://www.w3.org/2000/svg\"><path clip-rule=\"evenodd\" d=\"M7.875 5.5C6.014 5.5 4.5 7.08 4.5 9.023c0 .303.041.614.123.927a3.537 3.537 0 001.109 1.794L12 18.237l6.269-6.493a.726.726 0 01.04-.04 3.531 3.531 0 001.068-1.755c.082-.31.123-.623.123-.926 0-1.942-1.514-3.523-3.375-3.523-.286 0-.58.042-.875.125-1.141.32-2.05 1.253-2.372 2.435a.905.905 0 01-1.755 0C10.8 6.878 9.892 5.944 8.75 5.625a3.245 3.245 0 00-.876-.125zM12 20c-.243 0-.48-.1-.65-.277l-6.678-6.918a4.994 4.994 0 01-.504-.524A5.173 5.173 0 013 9.023C3 6.253 5.187 4 7.875 4c.423 0 .854.06 1.28.18A4.915 4.915 0 0112 6.35a4.915 4.915 0 012.845-2.17c.427-.12.857-.18 1.28-.18C18.813 4 21 6.253 21 9.023c0 .431-.058.871-.172 1.306a5.02 5.02 0 01-1.499 2.476l-6.678 6.918A.91.91 0 0112 20z\" fill=\"currentColor\" fill-rule=\"evenodd\"></path></svg></button><div class=\"sc-8104538b-0 duyLfn\"></div></div></div></div>,\n",
       " <div class=\"sc-379c64e5-6 ctiGMZ\"><div class=\"sc-7271e679-0 gSbySD sc-379c64e5-4 cWYLKz\" data-testid=\"listing-card-image-container-highlight\"><div class=\"sc-7271e679-2 fdDxVm\"><svg aria-hidden=\"true\" fill=\"none\" focusable=\"false\" height=\"32\" viewbox=\"0 0 24 24\" width=\"32\" xmlns=\"http://www.w3.org/2000/svg\"><g clip-path=\"url(#fire_svg__clip0_3674_1808)\"><path d=\"M15.555 10h0l-.003.01.242.061s-.4 1.578.4 1.75l-.056.244h.003l.005.001.012.003a.628.628 0 00.155.009.79.79 0 00.356-.103c.181-.103.335-.282.433-.565.236.508.52 1.265.61 2.116.124 1.187-.132 2.547-1.437 3.688h0l-.006.004.17.184-.17-.184h0l-.001.002-.002.002-.007.006a1.315 1.315 0 00-.098.103 1.184 1.184 0 00-.182.264c-.042.09-.114.297.038.47.029.032.06.057.094.078-.797.574-2.472 1.594-4.369 1.594h-.017 0-.005l-.02.002-.084.001c-.076 0-.188-.002-.33-.012a5.89 5.89 0 01-1.16-.209 6.352 6.352 0 01-2.614-1.487.54.54 0 00.24-.008.32.32 0 00.23-.272.5.5 0 00-.066-.285 1.769 1.769 0 00-.184-.273l-.017-.022-.021-.017h0-.001l-.005-.005a1.893 1.893 0 01-.113-.103 4.557 4.557 0 01-1.066-1.595c-.387-.995-.494-2.402.637-4.11.039.23.103.493.209.739.195.454.566.913 1.23.905h.012l-.016-.25.017.25h.001l.002-.001h.005l.011-.002a.736.736 0 00.137-.032.837.837 0 00.292-.17c.215-.192.374-.523.353-1.063l-.001-.016-.003-.015h0v-.002l-.001-.009a2.59 2.59 0 01-.017-.238c-.004-.172.003-.43.05-.763.092-.651.339-1.59.958-2.729.174.058.349.097.517.09a.75.75 0 00.57-.286c.143-.176.234-.423.293-.732.06-.312.092-.711.098-1.212h0v-.003h-.25.25v0-.054a12.93 12.93 0 00-.07-1.244 14.928 14.928 0 012 1.603c.586.564 1.133 1.208 1.479 1.882.345.672.48 1.352.283 2.01z\" fill=\"url(#fire_svg__paint0_linear_3674_1808)\" stroke=\"#F1454F\" stroke-width=\"0.5\"></path><path d=\"M7.319 8.623h0l.002-.002c.147-.103.253-.257.33-.412.06-.122.104-.248.135-.358.246 1.368-.679 2.279-.995 2.545-.087-.656.047-1.099.199-1.376a1.376 1.376 0 01.303-.377.542.542 0 01.02-.016l.005-.004h0z\" fill=\"url(#fire_svg__paint1_linear_3674_1808)\" stroke=\"#F1454F\" stroke-width=\"0.15\"></path><path d=\"M12.916 19.841c.671-.12 1.187-1.008 1.187-1.008 2.542-1.762 2.233-2.93 2.233-2.93-.93.32-.723-.794-.723-.794.62-1.591.052-1.764.052-1.764-1.665 1.061-1.549-1.166-1.549-1.166.61-3.057-1.145-4.751-1.705-5.204-.065-.053-.157-.001-.155.082.009.384-.02 1.201-.398 1.57 0 0-1.82 1.458-2.026 4.626 0 0-.103 1.55-1.548 1.352 0 0-.594-.358-.788-.896-.011-.033-.07-.03-.073.004-.054.656-.108 2.71 1.158 3.967 0 0 2.155 1.75 2.335 2.214 0 0 .774.186 2.013-.04l-.013-.013z\" fill=\"url(#fire_svg__paint2_linear_3674_1808)\"></path><path d=\"M11.045 19.907s.426.2 1.561-.026c0 0 .258-.849 1.394-1.949 0 0 1.187-1.776-.903-2.797 0 0-.957-.635-.524-3.135.016-.089-.08-.149-.147-.09-.473.408-1.674 1.629-2.013 3.742 0 0-.083.873-1.004.903-.066.002-.117.061-.1.125.1.378.447 1.508 1.13 1.968 0 0 .8.968.619 1.246l-.013.013z\" fill=\"url(#fire_svg__paint3_linear_3674_1808)\"></path></g><defs><lineargradient gradientunits=\"userSpaceOnUse\" id=\"fire_svg__paint0_linear_3674_1808\" x1=\"11.99\" x2=\"11.99\" y1=\"4\" y2=\"19.99\"><stop offset=\"0.229\" stop-color=\"#F1454F\"></stop><stop offset=\"0.755\" stop-color=\"#F8AA17\"></stop><stop offset=\"1\" stop-color=\"#BB3C4D\"></stop></lineargradient><lineargradient gradientunits=\"userSpaceOnUse\" id=\"fire_svg__paint1_linear_3674_1808\" x1=\"7.295\" x2=\"7.295\" y1=\"7.513\" y2=\"10.535\"><stop stop-color=\"#F1454F\"></stop><stop offset=\"0.516\" stop-color=\"#F8AA17\"></stop><stop offset=\"1\" stop-color=\"#F1454F\"></stop></lineargradient><lineargradient gradientunits=\"userSpaceOnUse\" id=\"fire_svg__paint2_linear_3674_1808\" x1=\"11.874\" x2=\"11.874\" y1=\"6.85\" y2=\"19.966\"><stop stop-color=\"#F8AA17\"></stop><stop offset=\"0.49\" stop-color=\"#FFD255\"></stop><stop offset=\"1\" stop-color=\"#F8AA17\" stop-opacity=\"0.35\"></stop></lineargradient><lineargradient gradientunits=\"userSpaceOnUse\" id=\"fire_svg__paint3_linear_3674_1808\" x1=\"11.806\" x2=\"11.806\" y1=\"11.755\" y2=\"23.221\"><stop offset=\"0.176\" stop-color=\"#F8AA17\"></stop><stop offset=\"0.536\" stop-color=\"#FEEED1\"></stop><stop offset=\"0.874\" stop-color=\"#FFD255\"></stop></lineargradient><clippath id=\"fire_svg__clip0_3674_1808\"><path d=\"M0 0h12v16H0z\" fill=\"#fff\" transform=\"translate(6 4)\"></path></clippath></defs></svg> <!-- -->Featured</div><span style=\"box-sizing:border-box;display:block;overflow:hidden;width:initial;height:initial;background:none;opacity:1;border:0;margin:0;padding:0;position:absolute;top:0;left:0;bottom:0;right:0\"><img alt=\"1 Bed + Den with Locker, All Utils Included Toronto Waterfront\" data-nimg=\"fill\" data-testid=\"listing-card-image\" decoding=\"async\" src=\"data:image/gif;base64,R0lGODlhAQABAIAAAAAAAP///yH5BAEAAAAALAAAAAABAAEAAAIBRAA7\" style=\"position:absolute;top:0;left:0;bottom:0;right:0;box-sizing:border-box;padding:0;border:none;margin:auto;display:block;width:0;height:0;min-width:100%;max-width:100%;min-height:100%;max-height:100%\"/><noscript><img alt=\"1 Bed + Den with Locker, All Utils Included Toronto Waterfront\" data-nimg=\"fill\" data-testid=\"listing-card-image\" decoding=\"async\" loading=\"lazy\" src=\"https://media.kijiji.ca/api/v1/ca-prod-fsbo-ads/images/9a/9a865f90-39ca-4e17-be19-1504015c6ac1?rule=kijijica-400-jpg\" style=\"position:absolute;top:0;left:0;bottom:0;right:0;box-sizing:border-box;padding:0;border:none;margin:auto;display:block;width:0;height:0;min-width:100%;max-width:100%;min-height:100%;max-height:100%\"/></noscript></span></div><div class=\"sc-63c588db-0 hTKPam sc-379c64e5-9 iZCfxd\"><div class=\"sc-379c64e5-8 bHKVfX\"><div class=\"sc-67bef22e-0 dkaEZE\" data-testid=\"listing-price-container\"><p class=\"sc-c54bbc09-0 SKPSV sc-67bef22e-2 fAhJUN\" data-testid=\"listing-price\">$2,650.00</p></div><h3 class=\"sc-c54bbc09-0 KhHgs sc-379c64e5-13 knNVTD\" data-testid=\"listing-title\"><a class=\"sc-379c64e5-0 dlxsIh\" data-testid=\"listing-link\" href=\"/v-apartments-condos/city-of-toronto/1-bed-den-with-locker-all-utils-included-toronto-waterfront/1672130250\">1 Bed + Den with Locker, All Utils Included Toronto Waterfront</a></h3><div class=\"sc-f278d378-0 dgvsZt\" data-testid=\"listing-details\"><p class=\"sc-c54bbc09-0 epfGfQ\" data-testid=\"listing-location\">East York</p><div class=\"sc-f278d378-2 jixpDj\"><div class=\"sc-f278d378-1 kHIuWn\" data-testid=\"vertical-divider\" role=\"separator\"></div></div></div><p class=\"sc-c54bbc09-0 loTzYZ sc-379c64e5-15 ddaFDH\" data-testid=\"listing-description\">Great 1 Bed + Den Condo at Prime Waterfront Location - 10 Yonge Street, Toronto All Utilities Included (Water, Heating/AC, Hydro, Bell Cable, Bell Fast Wireless Internet). Rent controlled unit (unit ...</p><div class=\"sc-8104538b-0 duyLfn\"><div class=\"sc-63c588db-0 kGQmt\"></div></div></div><div class=\"sc-379c64e5-16 eZXekx\"><button aria-label=\"Add to My Favourites\" aria-pressed=\"false\" class=\"sc-1d71d432-0 dmbTFF\" data-testid=\"listing-favourite-button\" title=\"Click to add to My Favourites\" type=\"button\"><svg aria-hidden=\"true\" fill=\"none\" focusable=\"false\" height=\"32\" viewbox=\"0 0 24 24\" width=\"32\" xmlns=\"http://www.w3.org/2000/svg\"><path clip-rule=\"evenodd\" d=\"M7.875 5.5C6.014 5.5 4.5 7.08 4.5 9.023c0 .303.041.614.123.927a3.537 3.537 0 001.109 1.794L12 18.237l6.269-6.493a.726.726 0 01.04-.04 3.531 3.531 0 001.068-1.755c.082-.31.123-.623.123-.926 0-1.942-1.514-3.523-3.375-3.523-.286 0-.58.042-.875.125-1.141.32-2.05 1.253-2.372 2.435a.905.905 0 01-1.755 0C10.8 6.878 9.892 5.944 8.75 5.625a3.245 3.245 0 00-.876-.125zM12 20c-.243 0-.48-.1-.65-.277l-6.678-6.918a4.994 4.994 0 01-.504-.524A5.173 5.173 0 013 9.023C3 6.253 5.187 4 7.875 4c.423 0 .854.06 1.28.18A4.915 4.915 0 0112 6.35a4.915 4.915 0 012.845-2.17c.427-.12.857-.18 1.28-.18C18.813 4 21 6.253 21 9.023c0 .431-.058.871-.172 1.306a5.02 5.02 0 01-1.499 2.476l-6.678 6.918A.91.91 0 0112 20z\" fill=\"currentColor\" fill-rule=\"evenodd\"></path></svg></button><div class=\"sc-8104538b-0 duyLfn\"></div></div></div></div>,\n",
       " <div class=\"sc-379c64e5-6 ctiGMZ\"><div class=\"sc-7271e679-0 gSbySD sc-379c64e5-4 cWYLKz\" data-testid=\"listing-card-image-container-highlight\"><div class=\"sc-7271e679-2 fdDxVm\"><svg aria-hidden=\"true\" fill=\"none\" focusable=\"false\" height=\"32\" viewbox=\"0 0 24 24\" width=\"32\" xmlns=\"http://www.w3.org/2000/svg\"><g clip-path=\"url(#fire_svg__clip0_3674_1808)\"><path d=\"M15.555 10h0l-.003.01.242.061s-.4 1.578.4 1.75l-.056.244h.003l.005.001.012.003a.628.628 0 00.155.009.79.79 0 00.356-.103c.181-.103.335-.282.433-.565.236.508.52 1.265.61 2.116.124 1.187-.132 2.547-1.437 3.688h0l-.006.004.17.184-.17-.184h0l-.001.002-.002.002-.007.006a1.315 1.315 0 00-.098.103 1.184 1.184 0 00-.182.264c-.042.09-.114.297.038.47.029.032.06.057.094.078-.797.574-2.472 1.594-4.369 1.594h-.017 0-.005l-.02.002-.084.001c-.076 0-.188-.002-.33-.012a5.89 5.89 0 01-1.16-.209 6.352 6.352 0 01-2.614-1.487.54.54 0 00.24-.008.32.32 0 00.23-.272.5.5 0 00-.066-.285 1.769 1.769 0 00-.184-.273l-.017-.022-.021-.017h0-.001l-.005-.005a1.893 1.893 0 01-.113-.103 4.557 4.557 0 01-1.066-1.595c-.387-.995-.494-2.402.637-4.11.039.23.103.493.209.739.195.454.566.913 1.23.905h.012l-.016-.25.017.25h.001l.002-.001h.005l.011-.002a.736.736 0 00.137-.032.837.837 0 00.292-.17c.215-.192.374-.523.353-1.063l-.001-.016-.003-.015h0v-.002l-.001-.009a2.59 2.59 0 01-.017-.238c-.004-.172.003-.43.05-.763.092-.651.339-1.59.958-2.729.174.058.349.097.517.09a.75.75 0 00.57-.286c.143-.176.234-.423.293-.732.06-.312.092-.711.098-1.212h0v-.003h-.25.25v0-.054a12.93 12.93 0 00-.07-1.244 14.928 14.928 0 012 1.603c.586.564 1.133 1.208 1.479 1.882.345.672.48 1.352.283 2.01z\" fill=\"url(#fire_svg__paint0_linear_3674_1808)\" stroke=\"#F1454F\" stroke-width=\"0.5\"></path><path d=\"M7.319 8.623h0l.002-.002c.147-.103.253-.257.33-.412.06-.122.104-.248.135-.358.246 1.368-.679 2.279-.995 2.545-.087-.656.047-1.099.199-1.376a1.376 1.376 0 01.303-.377.542.542 0 01.02-.016l.005-.004h0z\" fill=\"url(#fire_svg__paint1_linear_3674_1808)\" stroke=\"#F1454F\" stroke-width=\"0.15\"></path><path d=\"M12.916 19.841c.671-.12 1.187-1.008 1.187-1.008 2.542-1.762 2.233-2.93 2.233-2.93-.93.32-.723-.794-.723-.794.62-1.591.052-1.764.052-1.764-1.665 1.061-1.549-1.166-1.549-1.166.61-3.057-1.145-4.751-1.705-5.204-.065-.053-.157-.001-.155.082.009.384-.02 1.201-.398 1.57 0 0-1.82 1.458-2.026 4.626 0 0-.103 1.55-1.548 1.352 0 0-.594-.358-.788-.896-.011-.033-.07-.03-.073.004-.054.656-.108 2.71 1.158 3.967 0 0 2.155 1.75 2.335 2.214 0 0 .774.186 2.013-.04l-.013-.013z\" fill=\"url(#fire_svg__paint2_linear_3674_1808)\"></path><path d=\"M11.045 19.907s.426.2 1.561-.026c0 0 .258-.849 1.394-1.949 0 0 1.187-1.776-.903-2.797 0 0-.957-.635-.524-3.135.016-.089-.08-.149-.147-.09-.473.408-1.674 1.629-2.013 3.742 0 0-.083.873-1.004.903-.066.002-.117.061-.1.125.1.378.447 1.508 1.13 1.968 0 0 .8.968.619 1.246l-.013.013z\" fill=\"url(#fire_svg__paint3_linear_3674_1808)\"></path></g><defs><lineargradient gradientunits=\"userSpaceOnUse\" id=\"fire_svg__paint0_linear_3674_1808\" x1=\"11.99\" x2=\"11.99\" y1=\"4\" y2=\"19.99\"><stop offset=\"0.229\" stop-color=\"#F1454F\"></stop><stop offset=\"0.755\" stop-color=\"#F8AA17\"></stop><stop offset=\"1\" stop-color=\"#BB3C4D\"></stop></lineargradient><lineargradient gradientunits=\"userSpaceOnUse\" id=\"fire_svg__paint1_linear_3674_1808\" x1=\"7.295\" x2=\"7.295\" y1=\"7.513\" y2=\"10.535\"><stop stop-color=\"#F1454F\"></stop><stop offset=\"0.516\" stop-color=\"#F8AA17\"></stop><stop offset=\"1\" stop-color=\"#F1454F\"></stop></lineargradient><lineargradient gradientunits=\"userSpaceOnUse\" id=\"fire_svg__paint2_linear_3674_1808\" x1=\"11.874\" x2=\"11.874\" y1=\"6.85\" y2=\"19.966\"><stop stop-color=\"#F8AA17\"></stop><stop offset=\"0.49\" stop-color=\"#FFD255\"></stop><stop offset=\"1\" stop-color=\"#F8AA17\" stop-opacity=\"0.35\"></stop></lineargradient><lineargradient gradientunits=\"userSpaceOnUse\" id=\"fire_svg__paint3_linear_3674_1808\" x1=\"11.806\" x2=\"11.806\" y1=\"11.755\" y2=\"23.221\"><stop offset=\"0.176\" stop-color=\"#F8AA17\"></stop><stop offset=\"0.536\" stop-color=\"#FEEED1\"></stop><stop offset=\"0.874\" stop-color=\"#FFD255\"></stop></lineargradient><clippath id=\"fire_svg__clip0_3674_1808\"><path d=\"M0 0h12v16H0z\" fill=\"#fff\" transform=\"translate(6 4)\"></path></clippath></defs></svg> <!-- -->Featured</div><span style=\"box-sizing:border-box;display:block;overflow:hidden;width:initial;height:initial;background:none;opacity:1;border:0;margin:0;padding:0;position:absolute;top:0;left:0;bottom:0;right:0\"><img alt=\"$ 1,860 1b1b Eglinton Light Rail Line\" data-nimg=\"fill\" data-testid=\"listing-card-image\" decoding=\"async\" src=\"data:image/gif;base64,R0lGODlhAQABAIAAAAAAAP///yH5BAEAAAAALAAAAAABAAEAAAIBRAA7\" style=\"position:absolute;top:0;left:0;bottom:0;right:0;box-sizing:border-box;padding:0;border:none;margin:auto;display:block;width:0;height:0;min-width:100%;max-width:100%;min-height:100%;max-height:100%\"/><noscript><img alt=\"$ 1,860 1b1b Eglinton Light Rail Line\" data-nimg=\"fill\" data-testid=\"listing-card-image\" decoding=\"async\" loading=\"lazy\" src=\"https://media.kijiji.ca/api/v1/ca-prod-dealer-ads/images/fa/fa197626-7370-4f5e-901e-695d9136b5fa?rule=kijijica-400-jpg\" style=\"position:absolute;top:0;left:0;bottom:0;right:0;box-sizing:border-box;padding:0;border:none;margin:auto;display:block;width:0;height:0;min-width:100%;max-width:100%;min-height:100%;max-height:100%\"/></noscript></span></div><div class=\"sc-63c588db-0 hTKPam sc-379c64e5-9 iZCfxd\"><div class=\"sc-379c64e5-8 bHKVfX\"><div class=\"sc-67bef22e-0 dkaEZE\" data-testid=\"listing-price-container\"><p class=\"sc-c54bbc09-0 SKPSV sc-67bef22e-2 fAhJUN\" data-testid=\"listing-price\">$1,800.00</p></div><h3 class=\"sc-c54bbc09-0 KhHgs sc-379c64e5-13 knNVTD\" data-testid=\"listing-title\"><a class=\"sc-379c64e5-0 dlxsIh\" data-testid=\"listing-link\" href=\"/v-apartments-condos/city-of-toronto/1-860-1b1b-eglinton-light-rail-line/1685108276\">$ 1,860 1b1b Eglinton Light Rail Line</a></h3><div class=\"sc-f278d378-0 dgvsZt\" data-testid=\"listing-details\"><p class=\"sc-c54bbc09-0 epfGfQ\" data-testid=\"listing-location\">East York</p><div class=\"sc-f278d378-2 jixpDj\"><div class=\"sc-f278d378-1 kHIuWn\" data-testid=\"vertical-divider\" role=\"separator\"></div></div></div><p class=\"sc-c54bbc09-0 loTzYZ sc-379c64e5-15 ddaFDH\" data-testid=\"listing-description\">Brand New Basement unit with a permit, bright and spacious unit with all new kitchen, cabinet, beautiful countertop and all brand-new appliance, gas stove with powerful oven.</p><div class=\"sc-8104538b-0 duyLfn\"><div class=\"sc-63c588db-0 kGQmt\"></div></div></div><div class=\"sc-379c64e5-16 eZXekx\"><button aria-label=\"Add to My Favourites\" aria-pressed=\"false\" class=\"sc-1d71d432-0 dmbTFF\" data-testid=\"listing-favourite-button\" title=\"Click to add to My Favourites\" type=\"button\"><svg aria-hidden=\"true\" fill=\"none\" focusable=\"false\" height=\"32\" viewbox=\"0 0 24 24\" width=\"32\" xmlns=\"http://www.w3.org/2000/svg\"><path clip-rule=\"evenodd\" d=\"M7.875 5.5C6.014 5.5 4.5 7.08 4.5 9.023c0 .303.041.614.123.927a3.537 3.537 0 001.109 1.794L12 18.237l6.269-6.493a.726.726 0 01.04-.04 3.531 3.531 0 001.068-1.755c.082-.31.123-.623.123-.926 0-1.942-1.514-3.523-3.375-3.523-.286 0-.58.042-.875.125-1.141.32-2.05 1.253-2.372 2.435a.905.905 0 01-1.755 0C10.8 6.878 9.892 5.944 8.75 5.625a3.245 3.245 0 00-.876-.125zM12 20c-.243 0-.48-.1-.65-.277l-6.678-6.918a4.994 4.994 0 01-.504-.524A5.173 5.173 0 013 9.023C3 6.253 5.187 4 7.875 4c.423 0 .854.06 1.28.18A4.915 4.915 0 0112 6.35a4.915 4.915 0 012.845-2.17c.427-.12.857-.18 1.28-.18C18.813 4 21 6.253 21 9.023c0 .431-.058.871-.172 1.306a5.02 5.02 0 01-1.499 2.476l-6.678 6.918A.91.91 0 0112 20z\" fill=\"currentColor\" fill-rule=\"evenodd\"></path></svg></button><div class=\"sc-8104538b-0 duyLfn\"></div></div></div></div>,\n",
       " <div class=\"sc-379c64e5-6 ctiGMZ\"><div class=\"sc-7271e679-0 gSbySD sc-379c64e5-4 cWYLKz\" data-testid=\"listing-card-image-container-highlight\"><div class=\"sc-7271e679-2 fdDxVm\"><svg aria-hidden=\"true\" fill=\"none\" focusable=\"false\" height=\"32\" viewbox=\"0 0 24 24\" width=\"32\" xmlns=\"http://www.w3.org/2000/svg\"><g clip-path=\"url(#fire_svg__clip0_3674_1808)\"><path d=\"M15.555 10h0l-.003.01.242.061s-.4 1.578.4 1.75l-.056.244h.003l.005.001.012.003a.628.628 0 00.155.009.79.79 0 00.356-.103c.181-.103.335-.282.433-.565.236.508.52 1.265.61 2.116.124 1.187-.132 2.547-1.437 3.688h0l-.006.004.17.184-.17-.184h0l-.001.002-.002.002-.007.006a1.315 1.315 0 00-.098.103 1.184 1.184 0 00-.182.264c-.042.09-.114.297.038.47.029.032.06.057.094.078-.797.574-2.472 1.594-4.369 1.594h-.017 0-.005l-.02.002-.084.001c-.076 0-.188-.002-.33-.012a5.89 5.89 0 01-1.16-.209 6.352 6.352 0 01-2.614-1.487.54.54 0 00.24-.008.32.32 0 00.23-.272.5.5 0 00-.066-.285 1.769 1.769 0 00-.184-.273l-.017-.022-.021-.017h0-.001l-.005-.005a1.893 1.893 0 01-.113-.103 4.557 4.557 0 01-1.066-1.595c-.387-.995-.494-2.402.637-4.11.039.23.103.493.209.739.195.454.566.913 1.23.905h.012l-.016-.25.017.25h.001l.002-.001h.005l.011-.002a.736.736 0 00.137-.032.837.837 0 00.292-.17c.215-.192.374-.523.353-1.063l-.001-.016-.003-.015h0v-.002l-.001-.009a2.59 2.59 0 01-.017-.238c-.004-.172.003-.43.05-.763.092-.651.339-1.59.958-2.729.174.058.349.097.517.09a.75.75 0 00.57-.286c.143-.176.234-.423.293-.732.06-.312.092-.711.098-1.212h0v-.003h-.25.25v0-.054a12.93 12.93 0 00-.07-1.244 14.928 14.928 0 012 1.603c.586.564 1.133 1.208 1.479 1.882.345.672.48 1.352.283 2.01z\" fill=\"url(#fire_svg__paint0_linear_3674_1808)\" stroke=\"#F1454F\" stroke-width=\"0.5\"></path><path d=\"M7.319 8.623h0l.002-.002c.147-.103.253-.257.33-.412.06-.122.104-.248.135-.358.246 1.368-.679 2.279-.995 2.545-.087-.656.047-1.099.199-1.376a1.376 1.376 0 01.303-.377.542.542 0 01.02-.016l.005-.004h0z\" fill=\"url(#fire_svg__paint1_linear_3674_1808)\" stroke=\"#F1454F\" stroke-width=\"0.15\"></path><path d=\"M12.916 19.841c.671-.12 1.187-1.008 1.187-1.008 2.542-1.762 2.233-2.93 2.233-2.93-.93.32-.723-.794-.723-.794.62-1.591.052-1.764.052-1.764-1.665 1.061-1.549-1.166-1.549-1.166.61-3.057-1.145-4.751-1.705-5.204-.065-.053-.157-.001-.155.082.009.384-.02 1.201-.398 1.57 0 0-1.82 1.458-2.026 4.626 0 0-.103 1.55-1.548 1.352 0 0-.594-.358-.788-.896-.011-.033-.07-.03-.073.004-.054.656-.108 2.71 1.158 3.967 0 0 2.155 1.75 2.335 2.214 0 0 .774.186 2.013-.04l-.013-.013z\" fill=\"url(#fire_svg__paint2_linear_3674_1808)\"></path><path d=\"M11.045 19.907s.426.2 1.561-.026c0 0 .258-.849 1.394-1.949 0 0 1.187-1.776-.903-2.797 0 0-.957-.635-.524-3.135.016-.089-.08-.149-.147-.09-.473.408-1.674 1.629-2.013 3.742 0 0-.083.873-1.004.903-.066.002-.117.061-.1.125.1.378.447 1.508 1.13 1.968 0 0 .8.968.619 1.246l-.013.013z\" fill=\"url(#fire_svg__paint3_linear_3674_1808)\"></path></g><defs><lineargradient gradientunits=\"userSpaceOnUse\" id=\"fire_svg__paint0_linear_3674_1808\" x1=\"11.99\" x2=\"11.99\" y1=\"4\" y2=\"19.99\"><stop offset=\"0.229\" stop-color=\"#F1454F\"></stop><stop offset=\"0.755\" stop-color=\"#F8AA17\"></stop><stop offset=\"1\" stop-color=\"#BB3C4D\"></stop></lineargradient><lineargradient gradientunits=\"userSpaceOnUse\" id=\"fire_svg__paint1_linear_3674_1808\" x1=\"7.295\" x2=\"7.295\" y1=\"7.513\" y2=\"10.535\"><stop stop-color=\"#F1454F\"></stop><stop offset=\"0.516\" stop-color=\"#F8AA17\"></stop><stop offset=\"1\" stop-color=\"#F1454F\"></stop></lineargradient><lineargradient gradientunits=\"userSpaceOnUse\" id=\"fire_svg__paint2_linear_3674_1808\" x1=\"11.874\" x2=\"11.874\" y1=\"6.85\" y2=\"19.966\"><stop stop-color=\"#F8AA17\"></stop><stop offset=\"0.49\" stop-color=\"#FFD255\"></stop><stop offset=\"1\" stop-color=\"#F8AA17\" stop-opacity=\"0.35\"></stop></lineargradient><lineargradient gradientunits=\"userSpaceOnUse\" id=\"fire_svg__paint3_linear_3674_1808\" x1=\"11.806\" x2=\"11.806\" y1=\"11.755\" y2=\"23.221\"><stop offset=\"0.176\" stop-color=\"#F8AA17\"></stop><stop offset=\"0.536\" stop-color=\"#FEEED1\"></stop><stop offset=\"0.874\" stop-color=\"#FFD255\"></stop></lineargradient><clippath id=\"fire_svg__clip0_3674_1808\"><path d=\"M0 0h12v16H0z\" fill=\"#fff\" transform=\"translate(6 4)\"></path></clippath></defs></svg> <!-- -->Featured</div><span style=\"box-sizing:border-box;display:block;overflow:hidden;width:initial;height:initial;background:none;opacity:1;border:0;margin:0;padding:0;position:absolute;top:0;left:0;bottom:0;right:0\"><img alt=\"2Bed 1Den 2Bath Downtown Toronto Condo\" data-nimg=\"fill\" data-testid=\"listing-card-image\" decoding=\"async\" src=\"data:image/gif;base64,R0lGODlhAQABAIAAAAAAAP///yH5BAEAAAAALAAAAAABAAEAAAIBRAA7\" style=\"position:absolute;top:0;left:0;bottom:0;right:0;box-sizing:border-box;padding:0;border:none;margin:auto;display:block;width:0;height:0;min-width:100%;max-width:100%;min-height:100%;max-height:100%\"/><noscript><img alt=\"2Bed 1Den 2Bath Downtown Toronto Condo\" data-nimg=\"fill\" data-testid=\"listing-card-image\" decoding=\"async\" loading=\"lazy\" src=\"https://media.kijiji.ca/api/v1/ca-prod-dealer-ads/images/31/3137221f-c658-4cf1-829e-f2128da7346e?rule=kijijica-400-jpg\" style=\"position:absolute;top:0;left:0;bottom:0;right:0;box-sizing:border-box;padding:0;border:none;margin:auto;display:block;width:0;height:0;min-width:100%;max-width:100%;min-height:100%;max-height:100%\"/></noscript></span></div><div class=\"sc-63c588db-0 hTKPam sc-379c64e5-9 iZCfxd\"><div class=\"sc-379c64e5-8 bHKVfX\"><div class=\"sc-67bef22e-0 dkaEZE\" data-testid=\"listing-price-container\"><p class=\"sc-c54bbc09-0 SKPSV sc-67bef22e-2 fAhJUN\" data-testid=\"listing-price\">$3,400.00</p></div><h3 class=\"sc-c54bbc09-0 KhHgs sc-379c64e5-13 knNVTD\" data-testid=\"listing-title\"><a class=\"sc-379c64e5-0 dlxsIh\" data-testid=\"listing-link\" href=\"/v-apartments-condos/city-of-toronto/2bed-1den-2bath-downtown-toronto-condo/1687822273\">2Bed 1Den 2Bath Downtown Toronto Condo</a></h3><div class=\"sc-f278d378-0 dgvsZt\" data-testid=\"listing-details\"><p class=\"sc-c54bbc09-0 epfGfQ\" data-testid=\"listing-location\">East York</p><div class=\"sc-f278d378-2 jixpDj\"><div class=\"sc-f278d378-1 kHIuWn\" data-testid=\"vertical-divider\" role=\"separator\"></div></div></div><p class=\"sc-c54bbc09-0 loTzYZ sc-379c64e5-15 ddaFDH\" data-testid=\"listing-description\">Welcome to Peter &amp; Adelaide at 108 Peter St! Brand new professionally-managed unit in the heart of Toronto's Entertainment District. With a Walk /Transit score of 100, it does not get better than ...</p><div class=\"sc-8104538b-0 duyLfn\"><div class=\"sc-63c588db-0 kGQmt\"></div></div></div><div class=\"sc-379c64e5-16 eZXekx\"><button aria-label=\"Add to My Favourites\" aria-pressed=\"false\" class=\"sc-1d71d432-0 dmbTFF\" data-testid=\"listing-favourite-button\" title=\"Click to add to My Favourites\" type=\"button\"><svg aria-hidden=\"true\" fill=\"none\" focusable=\"false\" height=\"32\" viewbox=\"0 0 24 24\" width=\"32\" xmlns=\"http://www.w3.org/2000/svg\"><path clip-rule=\"evenodd\" d=\"M7.875 5.5C6.014 5.5 4.5 7.08 4.5 9.023c0 .303.041.614.123.927a3.537 3.537 0 001.109 1.794L12 18.237l6.269-6.493a.726.726 0 01.04-.04 3.531 3.531 0 001.068-1.755c.082-.31.123-.623.123-.926 0-1.942-1.514-3.523-3.375-3.523-.286 0-.58.042-.875.125-1.141.32-2.05 1.253-2.372 2.435a.905.905 0 01-1.755 0C10.8 6.878 9.892 5.944 8.75 5.625a3.245 3.245 0 00-.876-.125zM12 20c-.243 0-.48-.1-.65-.277l-6.678-6.918a4.994 4.994 0 01-.504-.524A5.173 5.173 0 013 9.023C3 6.253 5.187 4 7.875 4c.423 0 .854.06 1.28.18A4.915 4.915 0 0112 6.35a4.915 4.915 0 012.845-2.17c.427-.12.857-.18 1.28-.18C18.813 4 21 6.253 21 9.023c0 .431-.058.871-.172 1.306a5.02 5.02 0 01-1.499 2.476l-6.678 6.918A.91.91 0 0112 20z\" fill=\"currentColor\" fill-rule=\"evenodd\"></path></svg></button><div class=\"sc-8104538b-0 duyLfn\"></div></div></div></div>]"
      ]
     },
     "execution_count": 15,
     "metadata": {},
     "output_type": "execute_result"
    }
   ],
   "source": [
    "cards"
   ]
  },
  {
   "cell_type": "code",
   "execution_count": null,
   "id": "c7f52755",
   "metadata": {},
   "outputs": [],
   "source": []
  },
  {
   "cell_type": "code",
   "execution_count": null,
   "id": "c1645406",
   "metadata": {},
   "outputs": [],
   "source": []
  },
  {
   "cell_type": "code",
   "execution_count": null,
   "id": "b0366fbb",
   "metadata": {},
   "outputs": [],
   "source": []
  }
 ],
 "metadata": {
  "kernelspec": {
   "display_name": "Python 3 (ipykernel)",
   "language": "python",
   "name": "python3"
  },
  "language_info": {
   "codemirror_mode": {
    "name": "ipython",
    "version": 3
   },
   "file_extension": ".py",
   "mimetype": "text/x-python",
   "name": "python",
   "nbconvert_exporter": "python",
   "pygments_lexer": "ipython3",
   "version": "3.11.3"
  }
 },
 "nbformat": 4,
 "nbformat_minor": 5
}
