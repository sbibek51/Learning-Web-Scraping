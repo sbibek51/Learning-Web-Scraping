{
 "cells": [
  {
   "cell_type": "code",
   "execution_count": 1,
   "id": "63d22bfd",
   "metadata": {},
   "outputs": [],
   "source": [
    "import requests\n",
    "from bs4 import BeautifulSoup\n",
    "import csv\n",
    "import datetime"
   ]
  },
  {
   "cell_type": "code",
   "execution_count": 2,
   "id": "9f8dc39d",
   "metadata": {},
   "outputs": [],
   "source": [
    "headers = {  \"User-Agent\": \"Mozilla/5.0 (Windows NT 10.0; Win64; x64) AppleWebKit/537.36 (KHTML, like Gecko) Chrome/121.0.0.0 Safari/537.36\",  \"Accept-Encoding\": \"gzip, deflate, br\",\"Accept\": \"text/html,application/xhtml+xml,application/xml;q=0.9,image/avif,image/webp,image/apng,*/*;q=0.8,application/signed-exchange;v=b3;q=0.7\",\"DNT\":\"1\",\"Connection\":\"close\", \"Upgrade-Insecure-Requests\":\"1\"\n",
    "}"
   ]
  },
  {
   "cell_type": "code",
   "execution_count": 3,
   "id": "87f1bb4b",
   "metadata": {},
   "outputs": [],
   "source": [
    "# URL of the page to scrape\n",
    "url = \"https://www.upwork.com/freelance-jobs/ai-development/\""
   ]
  },
  {
   "cell_type": "code",
   "execution_count": 4,
   "id": "d5be8246",
   "metadata": {},
   "outputs": [],
   "source": [
    "# Send a GET request to the URL\n",
    "response = requests.get(url)"
   ]
  },
  {
   "cell_type": "code",
   "execution_count": 5,
   "id": "bfe82305",
   "metadata": {},
   "outputs": [
    {
     "name": "stdout",
     "output_type": "stream",
     "text": [
      "Failed to retrieve page. Status code: 403\n"
     ]
    }
   ],
   "source": [
    "# Check if the request was successful (status code 200)\n",
    "if response.status_code == 200:\n",
    "    # Parse the HTML content of the page\n",
    "    soup = BeautifulSoup(response.content, 'html.parser')\n",
    "    \n",
    "    # Find all job tiles on the page\n",
    "    job_tiles = soup.find_all('div', class_='job-tile-wrapper')\n",
    "\n",
    "    # Loop through each job tile and extract relevant information\n",
    "    for job_tile in job_tiles:\n",
    "        # Extract job title\n",
    "        job_title_element = job_tile.find('a', class_='job-title')\n",
    "        job_title = job_title_element.text.strip() if job_title_element else \"N/A\"\n",
    "        \n",
    "        # Extract hours needed\n",
    "        hours_needed_element = job_tile.find('p', {'data-qa': 'hours-needed'})\n",
    "        hours_needed = hours_needed_element.strong.text.strip() if hours_needed_element else \"N/A\"\n",
    "\n",
    "        # Extract expertise level\n",
    "        expertise_level_element = job_tile.find('p', {'data-qa': 'expert-level'})\n",
    "        expertise_level = expertise_level_element.strong.text.strip() if expertise_level_element else \"N/A\"\n",
    "\n",
    "        # Extract job description\n",
    "        job_description_element = job_tile.find('p', {'data-qa': 'job-description'})\n",
    "        job_description = job_description_element.text.strip() if job_description_element else \"N/A\"\n",
    "        \n",
    "        # Print the extracted information\n",
    "        print(\"Job Title:\", job_title)\n",
    "        print(\"Hours Needed:\", hours_needed)\n",
    "        print(\"Expertise Level:\", expertise_level)\n",
    "        print(\"Job Description:\", job_description)\n",
    "        print(\"-\" * 50)  # Separator between job entries\n",
    "else:\n",
    "    print(\"Failed to retrieve page. Status code:\", response.status_code)\n"
   ]
  },
  {
   "cell_type": "code",
   "execution_count": null,
   "id": "5e4faa83",
   "metadata": {},
   "outputs": [],
   "source": []
  }
 ],
 "metadata": {
  "kernelspec": {
   "display_name": "Python 3 (ipykernel)",
   "language": "python",
   "name": "python3"
  },
  "language_info": {
   "codemirror_mode": {
    "name": "ipython",
    "version": 3
   },
   "file_extension": ".py",
   "mimetype": "text/x-python",
   "name": "python",
   "nbconvert_exporter": "python",
   "pygments_lexer": "ipython3",
   "version": "3.10.9"
  }
 },
 "nbformat": 4,
 "nbformat_minor": 5
}
