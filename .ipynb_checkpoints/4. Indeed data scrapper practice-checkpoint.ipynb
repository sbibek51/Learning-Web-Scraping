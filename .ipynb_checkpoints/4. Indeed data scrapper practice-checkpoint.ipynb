{
 "cells": [
  {
   "cell_type": "code",
   "execution_count": 4,
   "id": "6b51142d",
   "metadata": {},
   "outputs": [],
   "source": [
    "#Bibek Shiwakoti\n"
   ]
  },
  {
   "cell_type": "code",
   "execution_count": 5,
   "id": "426fea9c",
   "metadata": {},
   "outputs": [
    {
     "ename": "ModuleNotFoundError",
     "evalue": "No module named 'selenium'",
     "output_type": "error",
     "traceback": [
      "\u001b[1;31m---------------------------------------------------------------------------\u001b[0m",
      "\u001b[1;31mModuleNotFoundError\u001b[0m                       Traceback (most recent call last)",
      "Cell \u001b[1;32mIn[5], line 3\u001b[0m\n\u001b[0;32m      1\u001b[0m \u001b[38;5;28;01mimport\u001b[39;00m \u001b[38;5;21;01mpandas\u001b[39;00m \u001b[38;5;28;01mas\u001b[39;00m \u001b[38;5;21;01mpd\u001b[39;00m\n\u001b[0;32m      2\u001b[0m \u001b[38;5;28;01mfrom\u001b[39;00m \u001b[38;5;21;01mbs4\u001b[39;00m \u001b[38;5;28;01mimport\u001b[39;00m BeautifulSoup\n\u001b[1;32m----> 3\u001b[0m \u001b[38;5;28;01mfrom\u001b[39;00m \u001b[38;5;21;01mselenium\u001b[39;00m \u001b[38;5;28;01mimport\u001b[39;00m webdriver\n\u001b[0;32m      4\u001b[0m \u001b[38;5;28;01mimport\u001b[39;00m \u001b[38;5;21;01mre\u001b[39;00m\n\u001b[0;32m      5\u001b[0m \u001b[38;5;28;01mfrom\u001b[39;00m \u001b[38;5;21;01mselenium\u001b[39;00m\u001b[38;5;21;01m.\u001b[39;00m\u001b[38;5;21;01mwebdriver\u001b[39;00m\u001b[38;5;21;01m.\u001b[39;00m\u001b[38;5;21;01medge\u001b[39;00m\u001b[38;5;21;01m.\u001b[39;00m\u001b[38;5;21;01mservice\u001b[39;00m \u001b[38;5;28;01mimport\u001b[39;00m Service\n",
      "\u001b[1;31mModuleNotFoundError\u001b[0m: No module named 'selenium'"
     ]
    }
   ],
   "source": [
    "import pandas as pd\n",
    "from bs4 import BeautifulSoup\n",
    "from selenium import webdriver\n",
    "import re\n",
    "from selenium.webdriver.edge.service import Service\n",
    "from selenium import webdriver\n",
    "from random import randint\n",
    "from selenium.webdriver.support import expected_conditions as EC\n",
    "import csv\n",
    "\n",
    "def get_driver(link):\n",
    "    service = Service(executable_path='C:/Users/hardik/Downloads/edgedriver_win64/msedgedriver.exe')\n",
    "    driver = webdriver.Edge(service=service)\n",
    "\n",
    "    driver.get(link)\n",
    "    \n",
    "    content = driver.page_source\n",
    "    \n",
    "    soup = BeautifulSoup(content,'html.parser')\n",
    "    driver.quit()\n",
    "    return soup\n",
    "\n",
    "def scraping(page):\n",
    "    jobs = page.find_all(\"div\", class_=\"job_seen_beacon\")\n",
    "    for job in jobs:\n",
    "\n",
    "        company_name = job.find(\"span\", class_=\"css-1x7z1ps eu4oa1w0\").text\n",
    "\n",
    "        company_location = job.find(\"div\", class_=\"css-t4u72d eu4oa1w0\").text\n",
    "\n",
    "        salary=None\n",
    "        try:\n",
    "            salary = job.find(\"div\", class_=\"metadata salary-snippet-container\").text\n",
    "            print(\"Original salary text:\", salary)\n",
    "           # cleaned_str = re.sub(r'[^\\d$.,]', '', salary)\n",
    "        except:\n",
    "            salary = None\n",
    "\n",
    "            \n",
    "        job_title = job.find(\"a\", class_=\"jcs-JobTitle css-jspxzf eu4oa1w0\").text\n",
    "\n",
    "        link_tag = job.find(\"a\", class_=\"jcs-JobTitle css-jspxzf eu4oa1w0\")\n",
    "        link_half = link_tag[\"href\"]\n",
    "        base_url = \"https://in.indeed.com\"\n",
    "        full_url = f\"{base_url}{link_half}\"\n",
    "\n",
    "        job_info = {\n",
    "            \"job_title\" : job_title,\n",
    "            \"salary\" : salary,\n",
    "            \"company_name\" : company_name,\n",
    "            \"company_location\" : company_location,\n",
    "            \"link\" : full_url\n",
    "        }\n",
    "        job_list.append(job_info)\n",
    "        \n",
    "job_list = []\n",
    "\n",
    "#put number of pages * 10 in place of the second int in for\n",
    "for i in range(0,500,10):\n",
    "    page_html = get_driver(f\"https://in.indeed.com/jobs?q=Python+Developer&l=Gurgaon%2C+Haryana&radius=50&start={i}&vjk=74df27615b32ca3c\")\n",
    "    scraping(page_html)\n",
    "\n",
    "df = pd.DataFrame(job_list)\n",
    "df.to_csv(\"jobs_indeed_python_developer.csv\")"
   ]
  },
  {
   "cell_type": "code",
   "execution_count": null,
   "id": "f27c0297",
   "metadata": {},
   "outputs": [],
   "source": []
  },
  {
   "cell_type": "code",
   "execution_count": null,
   "id": "4bf0ce38",
   "metadata": {},
   "outputs": [],
   "source": []
  }
 ],
 "metadata": {
  "kernelspec": {
   "display_name": "Python 3 (ipykernel)",
   "language": "python",
   "name": "python3"
  },
  "language_info": {
   "codemirror_mode": {
    "name": "ipython",
    "version": 3
   },
   "file_extension": ".py",
   "mimetype": "text/x-python",
   "name": "python",
   "nbconvert_exporter": "python",
   "pygments_lexer": "ipython3",
   "version": "3.11.3"
  }
 },
 "nbformat": 4,
 "nbformat_minor": 5
}
