{
 "cells": [
  {
   "cell_type": "code",
   "execution_count": 80,
   "id": "c4e363d4",
   "metadata": {},
   "outputs": [],
   "source": [
    "#Bibek Shiwakoti\n",
    "# https://www.youtube.com/watch?v=eN_3d4JrL_w"
   ]
  },
  {
   "cell_type": "code",
   "execution_count": 81,
   "id": "63d22bfd",
   "metadata": {},
   "outputs": [],
   "source": [
    "import requests\n",
    "from bs4 import BeautifulSoup\n",
    "import csv\n",
    "import datetime"
   ]
  },
  {
   "cell_type": "code",
   "execution_count": 82,
   "id": "51313db5",
   "metadata": {},
   "outputs": [],
   "source": [
    "headers = {\n",
    "    \"User-agent\": \"Mozilla/5.0 (X11; Linux x86_64) AppleWebKit/537.36 (KHTML, like Gecko) Chrome/77.0.3865.120 Safari/537.36\"}\n"
   ]
  },
  {
   "cell_type": "code",
   "execution_count": 83,
   "id": "47ee1e5b",
   "metadata": {},
   "outputs": [
    {
     "name": "stdout",
     "output_type": "stream",
     "text": [
      "Current Date: 2024-03-08\n"
     ]
    }
   ],
   "source": [
    "current_date = datetime.datetime.now().date()\n",
    "print(\"Current Date:\", current_date)"
   ]
  },
  {
   "cell_type": "code",
   "execution_count": 84,
   "id": "b928f57b",
   "metadata": {},
   "outputs": [],
   "source": [
    "template = 'https://ca.indeed.com/jobs?q={}&l={}'"
   ]
  },
  {
   "cell_type": "code",
   "execution_count": 85,
   "id": "4991a5ce",
   "metadata": {},
   "outputs": [],
   "source": [
    "def get_url(position,location):\n",
    "    \"\"\"generate a url from job position and location\"\"\"\n",
    "    url = template.format(position,location)\n",
    "    return url"
   ]
  },
  {
   "cell_type": "code",
   "execution_count": 86,
   "id": "c30f8bc4",
   "metadata": {},
   "outputs": [],
   "source": [
    "url = get_url('java', 'Canada')"
   ]
  },
  {
   "cell_type": "code",
   "execution_count": 87,
   "id": "c5d72a4a",
   "metadata": {},
   "outputs": [
    {
     "name": "stdout",
     "output_type": "stream",
     "text": [
      "https://ca.indeed.com/jobs?q=java&l=Canada\n"
     ]
    }
   ],
   "source": [
    "print(url)"
   ]
  },
  {
   "cell_type": "markdown",
   "id": "dca5d5f7",
   "metadata": {},
   "source": [
    "## Extract raw html"
   ]
  },
  {
   "cell_type": "code",
   "execution_count": 94,
   "id": "ef31cfb5",
   "metadata": {},
   "outputs": [],
   "source": [
    "agent = {'User-Agent' : 'Mozilla/5.0 (Windows NT 10.0; WOW64) AppleWebKit/537.36 (KHTML, like Gecko) Chrome/104.0.0.0 Safari/537.36 Vivaldi/5.3.2679.70.'}\n",
    "response=requests.get(url)"
   ]
  },
  {
   "cell_type": "code",
   "execution_count": 95,
   "id": "d5387f6d",
   "metadata": {},
   "outputs": [
    {
     "data": {
      "text/plain": [
       "<Response [403]>"
      ]
     },
     "execution_count": 95,
     "metadata": {},
     "output_type": "execute_result"
    }
   ],
   "source": [
    "response"
   ]
  },
  {
   "cell_type": "code",
   "execution_count": 96,
   "id": "428f9fba",
   "metadata": {},
   "outputs": [
    {
     "data": {
      "text/plain": [
       "'Forbidden'"
      ]
     },
     "execution_count": 96,
     "metadata": {},
     "output_type": "execute_result"
    }
   ],
   "source": [
    "response.reason"
   ]
  },
  {
   "cell_type": "code",
   "execution_count": 99,
   "id": "fdd0873a",
   "metadata": {},
   "outputs": [],
   "source": [
    "soup = BeautifulSoup(response.text,'html.parser')"
   ]
  },
  {
   "cell_type": "code",
   "execution_count": 100,
   "id": "dd527b00",
   "metadata": {},
   "outputs": [],
   "source": [
    "# cards = soup.find_all('div','job_seen_beacon')\n",
    "cards = soup.find_all('div','css-5lfssm eu4oa1w0')"
   ]
  },
  {
   "cell_type": "code",
   "execution_count": 101,
   "id": "76ac730e",
   "metadata": {},
   "outputs": [
    {
     "data": {
      "text/plain": [
       "0"
      ]
     },
     "execution_count": 101,
     "metadata": {},
     "output_type": "execute_result"
    }
   ],
   "source": [
    "len(cards)"
   ]
  },
  {
   "cell_type": "code",
   "execution_count": null,
   "id": "3ba06653",
   "metadata": {},
   "outputs": [],
   "source": []
  },
  {
   "cell_type": "code",
   "execution_count": null,
   "id": "973a7f1a",
   "metadata": {},
   "outputs": [],
   "source": []
  },
  {
   "cell_type": "code",
   "execution_count": null,
   "id": "641f7212",
   "metadata": {},
   "outputs": [],
   "source": []
  },
  {
   "cell_type": "code",
   "execution_count": null,
   "id": "6057c6a9",
   "metadata": {},
   "outputs": [],
   "source": []
  }
 ],
 "metadata": {
  "kernelspec": {
   "display_name": "Python 3 (ipykernel)",
   "language": "python",
   "name": "python3"
  },
  "language_info": {
   "codemirror_mode": {
    "name": "ipython",
    "version": 3
   },
   "file_extension": ".py",
   "mimetype": "text/x-python",
   "name": "python",
   "nbconvert_exporter": "python",
   "pygments_lexer": "ipython3",
   "version": "3.11.3"
  }
 },
 "nbformat": 4,
 "nbformat_minor": 5
}
