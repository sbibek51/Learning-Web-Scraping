{
 "cells": [
  {
   "cell_type": "code",
   "execution_count": 1,
   "metadata": {},
   "outputs": [],
   "source": [
    "from urllib.request import urlopen\n",
    "from bs4 import BeautifulSoup \n",
    "\n",
    "import datetime\n",
    "import re\n",
    "\n",
    "import pandas as pd\n",
    "\n"
   ]
  },
  {
   "cell_type": "markdown",
   "metadata": {},
   "source": [
    "# Extraction \n",
    "\n",
    "## Extract all listing car information in GTA area from kijiji webite\n",
    "\n",
    "### Key Car information is as below:\n",
    "\n",
    "- 'brand'\n",
    "- 'model'\n",
    "- 'model_year'\n",
    "- 'list_price'\n",
    "- 'color'\n",
    "- 'configration'\n",
    "- 'condition'\n",
    "- 'body_type'\n",
    "- 'wheel_config'\n",
    "- 'transmission'\n",
    "- 'fuel_type'\n",
    "- 'mileage'\n",
    "- 'carfax_link'\n",
    "- 'dealer_address'\n",
    "\n",
    "#### Examples:\n",
    "Car Information link: https://www.kijiji.ca/v-cars-trucks/city-of-toronto/2009-ford-f-150-xlt-super-crew-4x4/1385290163\n",
    "\n",
    "- brand :'Ford'\n",
    "- model:'F-150'\n",
    "- model_year:'2009'\n",
    "- list_price: '$11,999.00' \n",
    "- color: 'Blue'\n",
    "- configration: 'XLT'\n",
    "- condition: 'Used'\n",
    "- body_type: 'Pickup Truck'\n",
    "- wheel_config: '4 x 4'\n",
    "- transmission: 'Automatic'\n",
    "- fuel_type:  'Gasoline'\n",
    "- mileage: '204,000'\n",
    "- carfax_link: 'https://www.carproof.com/order?ref=kijiji&vin=1FTRW14819FB42024'\n",
    "- dealer_address: '2 Castleton Ave unit 3, York, ON, M6N 3Z5'\n",
    "\n"
   ]
  },
  {
   "cell_type": "code",
   "execution_count": 2,
   "metadata": {},
   "outputs": [],
   "source": [
    "def get_page_num(url):\n",
    "    \n",
    "    html = urlopen(url)\n",
    "    bs = BeautifulSoup(html, 'html.parser')\n",
    "    try:\n",
    "        page_info = bs.find('div',class_='showing').text\n",
    "        page_num = page_info.split()[-2].replace(',','')\n",
    "        page_num = int(int(page_num)/20)\n",
    "    except:\n",
    "        page_num = 1\n",
    "        pass\n",
    "    \n",
    "    return page_num\n",
    "\n",
    "        \n",
    "    \n",
    "    \n",
    "    \n",
    "    "
   ]
  },
  {
   "cell_type": "code",
   "execution_count": 60,
   "metadata": {},
   "outputs": [],
   "source": [
    "def get_item_info(url):\n",
    "    item_info_list = []\n",
    "   \n",
    "        \n",
    "    html = urlopen(url)\n",
    "    bs_item = BeautifulSoup(html, 'html.parser')\n",
    "    \n",
    "    try: \n",
    "        item_brand = bs_item.find(itemprop='brand').text\n",
    "    except:\n",
    "        item_brand ='na'\n",
    "    \n",
    "    \n",
    "    try:\n",
    "        item_model = bs_item.find(itemprop='model').text\n",
    "    except:\n",
    "        item_model ='na'\n",
    "    \n",
    "    try:\n",
    "        item_date = bs_item.find(itemprop='vehicleModelDate').text\n",
    "    except:\n",
    "        item_date ='na'\n",
    "    \n",
    "    try:\n",
    "        item_price = bs_item.find('span',itemprop='price').text\n",
    "    except:\n",
    "        item_price = 'na'\n",
    "    \n",
    "    try:\n",
    "        item_color = bs_item.find(itemprop='color').text\n",
    "    except:\n",
    "        item_color = 'na'\n",
    "        \n",
    "    try:\n",
    "        item_config = bs_item.find(itemprop='vehicleConfiguration').text\n",
    "    except:\n",
    "        item_config = 'na'\n",
    "    \n",
    "    try:\n",
    "        item_condition = bs_item.find(itemprop='itemCondition').text\n",
    "    except:\n",
    "        item_condition = 'na'\n",
    "    \n",
    "    try:\n",
    "        item_bodytype = bs_item.find(itemprop='bodyType').text\n",
    "    except:\n",
    "        item_bodytype = 'na'\n",
    "        \n",
    "    try:\n",
    "        item_wheelConfig = bs_item.find(itemprop='driveWheelConfiguration').text\n",
    "    except:\n",
    "        item_wheelConfig = 'na'\n",
    "        \n",
    "    try:\n",
    "        item_transmission = bs_item.find(itemprop='vehicleTransmission').text\n",
    "    except:\n",
    "        item_transmission = 'na'\n",
    "        \n",
    "    try:\n",
    "        item_fueltype = bs_item.find(itemprop='fuelType').text\n",
    "    except:\n",
    "        item_fueltype = 'na'\n",
    "        \n",
    "    try:\n",
    "        item_mileage = bs_item.find(itemprop='mileageFromOdometer').text\n",
    "    except:\n",
    "        item_mileage = 'na'\n",
    "    \n",
    "       \n",
    "    item_carfax = bs_item.find('a', href=re.compile('^(https://reports.carproof.com)((?!:).)*$'))\n",
    "    try:\n",
    "        item_carfax_link = item_carfax.attrs['href']\n",
    "    except:\n",
    "        item_carfax = bs_item.find('a', href=re.compile('^(https://www.carproof.com)((?!:).)*$'))\n",
    "        try: \n",
    "            item_carfax_link = item_carfax.attrs['href']\n",
    "        except:\n",
    "            item_carfax_link = 'na'\n",
    "    \n",
    "        \n",
    "    try:\n",
    "        item_dealer_add = bs_item.find(itemprop='address').text\n",
    "    except:\n",
    "        item_dealer_add = 'na'\n",
    "    \n",
    "   \n",
    "        \n",
    "\n",
    "    \n",
    "    item_info_list.append(item_brand)\n",
    "    item_info_list.append(item_model)\n",
    "    item_info_list.append(item_date)\n",
    "    item_info_list.append(item_price)\n",
    "    item_info_list.append(item_color)\n",
    "    item_info_list.append(item_config)\n",
    "    item_info_list.append(item_condition)\n",
    "    item_info_list.append(item_bodytype)\n",
    "    item_info_list.append(item_wheelConfig)\n",
    "    item_info_list.append(item_transmission)\n",
    "    item_info_list.append(item_fueltype)\n",
    "    item_info_list.append(item_mileage)\n",
    "    item_info_list.append(item_carfax_link)\n",
    "    item_info_list.append(item_dealer_add)\n",
    "   \n",
    "    \n",
    "    return item_info_list\n",
    "    \n",
    "    \n",
    "    "
   ]
  },
  {
   "cell_type": "code",
   "execution_count": 3,
   "metadata": {},
   "outputs": [
    {
     "data": {
      "text/plain": [
       "1"
      ]
     },
     "execution_count": 3,
     "metadata": {},
     "output_type": "execute_result"
    }
   ],
   "source": [
    "title=[]\n",
    "price=[]\n",
    "itemurl=[]\n",
    "\n",
    "base_url = 'https://www.kijiji.ca'\n",
    "init_url = 'https://www.kijiji.ca/b-cars-vehicles/city-of-toronto/c27l1700273'\n",
    "\n",
    "page_num = get_page_num(init_url)\n",
    "\n",
    "page_num\n",
    "\n"
   ]
  },
  {
   "cell_type": "code",
   "execution_count": 4,
   "metadata": {},
   "outputs": [],
   "source": [
    "all_info_list = []\n",
    "itemlist = []\n",
    "for page in range(1,page_num):\n",
    "    page_url = 'https://www.kijiji.ca/b-cars-vehicles/city-of-toronto/'+'page+'+ str(page)+'/c27l1700273'\n",
    "    html = urlopen(page_url)\n",
    "    bs = BeautifulSoup(html, 'html.parser')\n",
    "    for link in bs.find_all('a', href=re.compile('^(/v-cars-trucks/)((?!:).)*$')):\n",
    "        if 'href' in link.attrs:\n",
    "            item_url = base_url + link.attrs['href']\n",
    "            if '?' not in item_url:\n",
    "                print(item_url)\n",
    "                itemlist = get_item_info(item_url)\n",
    "                print(itemlist)\n",
    "                all_info_list.append(itemlist)\n",
    "                itemlist = []\n",
    "            \n",
    "    "
   ]
  },
  {
   "cell_type": "code",
   "execution_count": 5,
   "metadata": {},
   "outputs": [
    {
     "data": {
      "text/plain": [
       "[]"
      ]
     },
     "execution_count": 5,
     "metadata": {},
     "output_type": "execute_result"
    }
   ],
   "source": [
    "all_info_list"
   ]
  },
  {
   "cell_type": "code",
   "execution_count": 6,
   "metadata": {},
   "outputs": [],
   "source": [
    "df = pd.DataFrame(all_info_list)"
   ]
  },
  {
   "cell_type": "markdown",
   "metadata": {},
   "source": [
    "# Transformation\n",
    "\n",
    "## Transform all information into pandas dataframe"
   ]
  },
  {
   "cell_type": "code",
   "execution_count": 7,
   "metadata": {},
   "outputs": [
    {
     "data": {
      "text/html": [
       "<div>\n",
       "<style scoped>\n",
       "    .dataframe tbody tr th:only-of-type {\n",
       "        vertical-align: middle;\n",
       "    }\n",
       "\n",
       "    .dataframe tbody tr th {\n",
       "        vertical-align: top;\n",
       "    }\n",
       "\n",
       "    .dataframe thead th {\n",
       "        text-align: right;\n",
       "    }\n",
       "</style>\n",
       "<table border=\"1\" class=\"dataframe\">\n",
       "  <thead>\n",
       "    <tr style=\"text-align: right;\">\n",
       "      <th></th>\n",
       "    </tr>\n",
       "  </thead>\n",
       "  <tbody>\n",
       "  </tbody>\n",
       "</table>\n",
       "</div>"
      ],
      "text/plain": [
       "Empty DataFrame\n",
       "Columns: []\n",
       "Index: []"
      ]
     },
     "execution_count": 7,
     "metadata": {},
     "output_type": "execute_result"
    }
   ],
   "source": [
    "df"
   ]
  },
  {
   "cell_type": "code",
   "execution_count": 8,
   "metadata": {},
   "outputs": [],
   "source": [
    "columns_name = ['brand','model','model_year','list_price','color','configration','condition','body_type',\\\n",
    "               'wheel_config','transmission','fuel_type','mileage','carfax_link','dealer_address']\n"
   ]
  },
  {
   "cell_type": "code",
   "execution_count": 9,
   "metadata": {},
   "outputs": [
    {
     "ename": "ValueError",
     "evalue": "Length mismatch: Expected axis has 0 elements, new values have 14 elements",
     "output_type": "error",
     "traceback": [
      "\u001b[1;31m---------------------------------------------------------------------------\u001b[0m",
      "\u001b[1;31mValueError\u001b[0m                                Traceback (most recent call last)",
      "Cell \u001b[1;32mIn[9], line 1\u001b[0m\n\u001b[1;32m----> 1\u001b[0m \u001b[43mdf\u001b[49m\u001b[38;5;241;43m.\u001b[39;49m\u001b[43mcolumns\u001b[49m \u001b[38;5;241m=\u001b[39m columns_name\n",
      "File \u001b[1;32m~\\AppData\\Local\\Programs\\Python\\Python311\\Lib\\site-packages\\pandas\\core\\generic.py:6002\u001b[0m, in \u001b[0;36mNDFrame.__setattr__\u001b[1;34m(self, name, value)\u001b[0m\n\u001b[0;32m   6000\u001b[0m \u001b[38;5;28;01mtry\u001b[39;00m:\n\u001b[0;32m   6001\u001b[0m     \u001b[38;5;28mobject\u001b[39m\u001b[38;5;241m.\u001b[39m\u001b[38;5;21m__getattribute__\u001b[39m(\u001b[38;5;28mself\u001b[39m, name)\n\u001b[1;32m-> 6002\u001b[0m     \u001b[38;5;28;01mreturn\u001b[39;00m \u001b[38;5;28;43mobject\u001b[39;49m\u001b[38;5;241;43m.\u001b[39;49m\u001b[38;5;21;43m__setattr__\u001b[39;49m\u001b[43m(\u001b[49m\u001b[38;5;28;43mself\u001b[39;49m\u001b[43m,\u001b[49m\u001b[43m \u001b[49m\u001b[43mname\u001b[49m\u001b[43m,\u001b[49m\u001b[43m \u001b[49m\u001b[43mvalue\u001b[49m\u001b[43m)\u001b[49m\n\u001b[0;32m   6003\u001b[0m \u001b[38;5;28;01mexcept\u001b[39;00m \u001b[38;5;167;01mAttributeError\u001b[39;00m:\n\u001b[0;32m   6004\u001b[0m     \u001b[38;5;28;01mpass\u001b[39;00m\n",
      "File \u001b[1;32m~\\AppData\\Local\\Programs\\Python\\Python311\\Lib\\site-packages\\pandas\\_libs\\properties.pyx:69\u001b[0m, in \u001b[0;36mpandas._libs.properties.AxisProperty.__set__\u001b[1;34m()\u001b[0m\n",
      "File \u001b[1;32m~\\AppData\\Local\\Programs\\Python\\Python311\\Lib\\site-packages\\pandas\\core\\generic.py:730\u001b[0m, in \u001b[0;36mNDFrame._set_axis\u001b[1;34m(self, axis, labels)\u001b[0m\n\u001b[0;32m    725\u001b[0m \u001b[38;5;250m\u001b[39m\u001b[38;5;124;03m\"\"\"\u001b[39;00m\n\u001b[0;32m    726\u001b[0m \u001b[38;5;124;03mThis is called from the cython code when we set the `index` attribute\u001b[39;00m\n\u001b[0;32m    727\u001b[0m \u001b[38;5;124;03mdirectly, e.g. `series.index = [1, 2, 3]`.\u001b[39;00m\n\u001b[0;32m    728\u001b[0m \u001b[38;5;124;03m\"\"\"\u001b[39;00m\n\u001b[0;32m    729\u001b[0m labels \u001b[38;5;241m=\u001b[39m ensure_index(labels)\n\u001b[1;32m--> 730\u001b[0m \u001b[38;5;28;43mself\u001b[39;49m\u001b[38;5;241;43m.\u001b[39;49m\u001b[43m_mgr\u001b[49m\u001b[38;5;241;43m.\u001b[39;49m\u001b[43mset_axis\u001b[49m\u001b[43m(\u001b[49m\u001b[43maxis\u001b[49m\u001b[43m,\u001b[49m\u001b[43m \u001b[49m\u001b[43mlabels\u001b[49m\u001b[43m)\u001b[49m\n\u001b[0;32m    731\u001b[0m \u001b[38;5;28mself\u001b[39m\u001b[38;5;241m.\u001b[39m_clear_item_cache()\n",
      "File \u001b[1;32m~\\AppData\\Local\\Programs\\Python\\Python311\\Lib\\site-packages\\pandas\\core\\internals\\managers.py:225\u001b[0m, in \u001b[0;36mBaseBlockManager.set_axis\u001b[1;34m(self, axis, new_labels)\u001b[0m\n\u001b[0;32m    223\u001b[0m \u001b[38;5;28;01mdef\u001b[39;00m \u001b[38;5;21mset_axis\u001b[39m(\u001b[38;5;28mself\u001b[39m, axis: AxisInt, new_labels: Index) \u001b[38;5;241m-\u001b[39m\u001b[38;5;241m>\u001b[39m \u001b[38;5;28;01mNone\u001b[39;00m:\n\u001b[0;32m    224\u001b[0m     \u001b[38;5;66;03m# Caller is responsible for ensuring we have an Index object.\u001b[39;00m\n\u001b[1;32m--> 225\u001b[0m     \u001b[38;5;28;43mself\u001b[39;49m\u001b[38;5;241;43m.\u001b[39;49m\u001b[43m_validate_set_axis\u001b[49m\u001b[43m(\u001b[49m\u001b[43maxis\u001b[49m\u001b[43m,\u001b[49m\u001b[43m \u001b[49m\u001b[43mnew_labels\u001b[49m\u001b[43m)\u001b[49m\n\u001b[0;32m    226\u001b[0m     \u001b[38;5;28mself\u001b[39m\u001b[38;5;241m.\u001b[39maxes[axis] \u001b[38;5;241m=\u001b[39m new_labels\n",
      "File \u001b[1;32m~\\AppData\\Local\\Programs\\Python\\Python311\\Lib\\site-packages\\pandas\\core\\internals\\base.py:70\u001b[0m, in \u001b[0;36mDataManager._validate_set_axis\u001b[1;34m(self, axis, new_labels)\u001b[0m\n\u001b[0;32m     67\u001b[0m     \u001b[38;5;28;01mpass\u001b[39;00m\n\u001b[0;32m     69\u001b[0m \u001b[38;5;28;01melif\u001b[39;00m new_len \u001b[38;5;241m!=\u001b[39m old_len:\n\u001b[1;32m---> 70\u001b[0m     \u001b[38;5;28;01mraise\u001b[39;00m \u001b[38;5;167;01mValueError\u001b[39;00m(\n\u001b[0;32m     71\u001b[0m         \u001b[38;5;124mf\u001b[39m\u001b[38;5;124m\"\u001b[39m\u001b[38;5;124mLength mismatch: Expected axis has \u001b[39m\u001b[38;5;132;01m{\u001b[39;00mold_len\u001b[38;5;132;01m}\u001b[39;00m\u001b[38;5;124m elements, new \u001b[39m\u001b[38;5;124m\"\u001b[39m\n\u001b[0;32m     72\u001b[0m         \u001b[38;5;124mf\u001b[39m\u001b[38;5;124m\"\u001b[39m\u001b[38;5;124mvalues have \u001b[39m\u001b[38;5;132;01m{\u001b[39;00mnew_len\u001b[38;5;132;01m}\u001b[39;00m\u001b[38;5;124m elements\u001b[39m\u001b[38;5;124m\"\u001b[39m\n\u001b[0;32m     73\u001b[0m     )\n",
      "\u001b[1;31mValueError\u001b[0m: Length mismatch: Expected axis has 0 elements, new values have 14 elements"
     ]
    }
   ],
   "source": [
    "df.columns = columns_name"
   ]
  },
  {
   "cell_type": "code",
   "execution_count": null,
   "metadata": {},
   "outputs": [],
   "source": [
    "df.head()"
   ]
  },
  {
   "cell_type": "code",
   "execution_count": null,
   "metadata": {},
   "outputs": [],
   "source": [
    "df.to_csv('kijiji_car.csv')"
   ]
  },
  {
   "cell_type": "code",
   "execution_count": null,
   "metadata": {},
   "outputs": [],
   "source": []
  },
  {
   "cell_type": "code",
   "execution_count": null,
   "metadata": {},
   "outputs": [],
   "source": []
  },
  {
   "cell_type": "code",
   "execution_count": null,
   "metadata": {},
   "outputs": [],
   "source": []
  },
  {
   "cell_type": "code",
   "execution_count": null,
   "metadata": {},
   "outputs": [],
   "source": []
  }
 ],
 "metadata": {
  "kernelspec": {
   "display_name": "Python 3 (ipykernel)",
   "language": "python",
   "name": "python3"
  },
  "language_info": {
   "codemirror_mode": {
    "name": "ipython",
    "version": 3
   },
   "file_extension": ".py",
   "mimetype": "text/x-python",
   "name": "python",
   "nbconvert_exporter": "python",
   "pygments_lexer": "ipython3",
   "version": "3.11.3"
  }
 },
 "nbformat": 4,
 "nbformat_minor": 2
}
