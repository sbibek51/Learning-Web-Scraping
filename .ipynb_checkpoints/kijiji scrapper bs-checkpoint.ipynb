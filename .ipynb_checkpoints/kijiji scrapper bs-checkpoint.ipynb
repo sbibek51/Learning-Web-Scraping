{
 "cells": [
  {
   "cell_type": "code",
   "execution_count": 1,
   "id": "63d22bfd",
   "metadata": {},
   "outputs": [],
   "source": [
    "import requests\n",
    "from bs4 import BeautifulSoup\n",
    "import csv\n",
    "import datetime"
   ]
  },
  {
   "cell_type": "code",
   "execution_count": 2,
   "id": "9f8dc39d",
   "metadata": {},
   "outputs": [],
   "source": [
    "headers = {  \"User-Agent\": \"Mozilla/5.0 (Windows NT 10.0; Win64; x64) AppleWebKit/537.36 (KHTML, like Gecko) Chrome/121.0.0.0 Safari/537.36\",  \"Accept-Encoding\": \"gzip, deflate, br\",\"Accept\": \"text/html,application/xhtml+xml,application/xml;q=0.9,image/avif,image/webp,image/apng,*/*;q=0.8,application/signed-exchange;v=b3;q=0.7\",\"DNT\":\"1\",\"Connection\":\"close\", \"Upgrade-Insecure-Requests\":\"1\"\n",
    "}"
   ]
  },
  {
   "cell_type": "code",
   "execution_count": 3,
   "id": "47ee1e5b",
   "metadata": {},
   "outputs": [
    {
     "name": "stdout",
     "output_type": "stream",
     "text": [
      "Current Date: 2024-03-08\n"
     ]
    }
   ],
   "source": [
    "current_date = datetime.datetime.now().date()\n",
    "print(\"Current Date:\", current_date)"
   ]
  },
  {
   "cell_type": "code",
   "execution_count": 4,
   "id": "b928f57b",
   "metadata": {},
   "outputs": [],
   "source": [
    "template = 'https://www.kijiji.ca/b-{}/{}/k0l1700273?rb=true&dc=true'"
   ]
  },
  {
   "cell_type": "code",
   "execution_count": 5,
   "id": "4991a5ce",
   "metadata": {},
   "outputs": [],
   "source": [
    "def get_url(position,location):\n",
    "    \"\"\"generate a url from job position and location\"\"\"\n",
    "    url = template.format(position,location)\n",
    "    return url"
   ]
  },
  {
   "cell_type": "code",
   "execution_count": 6,
   "id": "c30f8bc4",
   "metadata": {},
   "outputs": [],
   "source": [
    "url = get_url('city-of-toronto', 'rent')"
   ]
  },
  {
   "cell_type": "code",
   "execution_count": 7,
   "id": "c5d72a4a",
   "metadata": {},
   "outputs": [
    {
     "name": "stdout",
     "output_type": "stream",
     "text": [
      "https://www.kijiji.ca/b-city-of-toronto/rent/k0l1700273?rb=true&dc=true\n"
     ]
    }
   ],
   "source": [
    "print(url)"
   ]
  },
  {
   "cell_type": "markdown",
   "id": "dca5d5f7",
   "metadata": {},
   "source": [
    "## Extract raw html"
   ]
  },
  {
   "cell_type": "code",
   "execution_count": 8,
   "id": "ef31cfb5",
   "metadata": {},
   "outputs": [],
   "source": [
    "response=requests.get(url, headers= headers)"
   ]
  },
  {
   "cell_type": "code",
   "execution_count": 9,
   "id": "d5387f6d",
   "metadata": {},
   "outputs": [
    {
     "data": {
      "text/plain": [
       "<Response [200]>"
      ]
     },
     "execution_count": 9,
     "metadata": {},
     "output_type": "execute_result"
    }
   ],
   "source": [
    "response"
   ]
  },
  {
   "cell_type": "code",
   "execution_count": 10,
   "id": "428f9fba",
   "metadata": {},
   "outputs": [
    {
     "data": {
      "text/plain": [
       "'OK'"
      ]
     },
     "execution_count": 10,
     "metadata": {},
     "output_type": "execute_result"
    }
   ],
   "source": [
    "response.reason"
   ]
  },
  {
   "cell_type": "code",
   "execution_count": 11,
   "id": "fdd0873a",
   "metadata": {},
   "outputs": [],
   "source": [
    "soup = BeautifulSoup(response.text,'html.parser')"
   ]
  },
  {
   "cell_type": "code",
   "execution_count": 12,
   "id": "dd527b00",
   "metadata": {},
   "outputs": [],
   "source": [
    "# cards = soup.find_all('div','job_seen_beacon')\n",
    "cards = soup.find_all('div','css-5lfssm eu4oa1w0')"
   ]
  },
  {
   "cell_type": "code",
   "execution_count": 13,
   "id": "a78e5d14",
   "metadata": {},
   "outputs": [
    {
     "data": {
      "text/plain": [
       "0"
      ]
     },
     "execution_count": 13,
     "metadata": {},
     "output_type": "execute_result"
    }
   ],
   "source": [
    "len(cards)"
   ]
  },
  {
   "cell_type": "code",
   "execution_count": null,
   "id": "b545a0eb",
   "metadata": {},
   "outputs": [],
   "source": []
  },
  {
   "cell_type": "code",
   "execution_count": null,
   "id": "c7f52755",
   "metadata": {},
   "outputs": [],
   "source": []
  },
  {
   "cell_type": "code",
   "execution_count": null,
   "id": "c1645406",
   "metadata": {},
   "outputs": [],
   "source": []
  },
  {
   "cell_type": "code",
   "execution_count": null,
   "id": "b0366fbb",
   "metadata": {},
   "outputs": [],
   "source": []
  }
 ],
 "metadata": {
  "kernelspec": {
   "display_name": "Python 3 (ipykernel)",
   "language": "python",
   "name": "python3"
  },
  "language_info": {
   "codemirror_mode": {
    "name": "ipython",
    "version": 3
   },
   "file_extension": ".py",
   "mimetype": "text/x-python",
   "name": "python",
   "nbconvert_exporter": "python",
   "pygments_lexer": "ipython3",
   "version": "3.11.3"
  }
 },
 "nbformat": 4,
 "nbformat_minor": 5
}
