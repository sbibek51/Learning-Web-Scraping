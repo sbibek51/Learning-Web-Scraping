{
 "cells": [
  {
   "cell_type": "code",
   "execution_count": 102,
   "id": "07354103",
   "metadata": {},
   "outputs": [],
   "source": [
    "# pip install selenium"
   ]
  },
  {
   "cell_type": "code",
   "execution_count": 103,
   "id": "e8bc62cd",
   "metadata": {},
   "outputs": [],
   "source": [
    "from selenium import webdriver\n",
    "from selenium.webdriver.chrome.service import Service\n",
    "from selenium.webdriver.common.by import By\n",
    "from selenium.webdriver.chrome.options import Options\n",
    "from selenium.webdriver.common.keys import Keys"
   ]
  },
  {
   "cell_type": "code",
   "execution_count": null,
   "id": "fa28736f",
   "metadata": {},
   "outputs": [],
   "source": []
  },
  {
   "cell_type": "code",
   "execution_count": null,
   "id": "febb4bed",
   "metadata": {},
   "outputs": [],
   "source": [
    "\n",
    "# Set up Selenium Chrome driver\n",
    "chrome_options = Options()\n",
    "chrome_options.add_argument(\"--headless\")  # To run Chrome in headless mode\n",
    "service = Service(r'C:\\Users\\TravelMate\\Downloads\\chrome-win32\\chrome-win32\\chrome.exe')  # Specify the path to chromedriver executable\n",
    "driver = webdriver.Chrome(service=service, options=chrome_options)\n",
    "\n",
    "# URL of the website\n",
    "url = \"https://www.canadiantire.ca/en/promotions/hot-sale.html\"\n",
    "\n",
    "# Open the URL\n",
    "driver.get(url)\n",
    "\n",
    "# Wait for the page to load completely (adjust the sleep time as needed)\n",
    "driver.implicitly_wait(10)\n",
    "\n",
    "# Find the element with the specified ID\n",
    "element = driver.find_element(By.ID, \"0882278P\")\n",
    "\n",
    "# Extract the inner HTML of the element\n",
    "html_content = element.get_attribute('innerHTML')\n",
    "\n",
    "print(html_content)\n",
    "\n",
    "# Close the browser\n",
    "driver.quit()\n"
   ]
  },
  {
   "cell_type": "code",
   "execution_count": null,
   "id": "50710188",
   "metadata": {},
   "outputs": [],
   "source": [
    "\n"
   ]
  },
  {
   "cell_type": "code",
   "execution_count": null,
   "id": "7e4e2c0d",
   "metadata": {},
   "outputs": [],
   "source": []
  }
 ],
 "metadata": {
  "kernelspec": {
   "display_name": "Python 3 (ipykernel)",
   "language": "python",
   "name": "python3"
  },
  "language_info": {
   "codemirror_mode": {
    "name": "ipython",
    "version": 3
   },
   "file_extension": ".py",
   "mimetype": "text/x-python",
   "name": "python",
   "nbconvert_exporter": "python",
   "pygments_lexer": "ipython3",
   "version": "3.10.9"
  }
 },
 "nbformat": 4,
 "nbformat_minor": 5
}
